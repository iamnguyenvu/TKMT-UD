{
 "cells": [
  {
   "cell_type": "markdown",
   "id": "15e9ec4f",
   "metadata": {},
   "source": [
    "# KHÁM PHÁ DỮ LIỆU\n",
    "\n",
    "Dữ liệu chứa trong file `tips.csv` chứa thông tin tiền tip của khách hàng tại một nhà hàng. Dữ liệu có các thông tin sau:\n",
    "\n",
    "- `total_bill`: tổng hoá đơn (USD)\n",
    "- `tip`: tiền tip/ tiền boa (USD)\n",
    "- `sex`: giới tính người thanh toán hóa đơn\n",
    "- `smoker`: có hút thuốc hay không\n",
    "- `day`: ngày trong tuần\n",
    "- `time`: thời gian dùng bữa(buổi sáng, buổi trưa, buổi tối)\n",
    "- `size`: số lượng người tham gia\n",
    "\n",
    "Bạn hãy thực hiện thống kê mô tả để tìm hiểu về hành vi tip của khách hàng tại nhà hàng"
   ]
  },
  {
   "cell_type": "code",
   "execution_count": 1,
   "id": "5b7985fb",
   "metadata": {},
   "outputs": [],
   "source": [
    "import pandas as pd\n",
    "import numpy as np\n",
    "import matplotlib.pyplot as plt\n",
    "import seaborn as sns"
   ]
  },
  {
   "cell_type": "code",
   "execution_count": 21,
   "id": "713daebe",
   "metadata": {},
   "outputs": [
    {
     "data": {
      "text/html": [
       "<div>\n",
       "<style scoped>\n",
       "    .dataframe tbody tr th:only-of-type {\n",
       "        vertical-align: middle;\n",
       "    }\n",
       "\n",
       "    .dataframe tbody tr th {\n",
       "        vertical-align: top;\n",
       "    }\n",
       "\n",
       "    .dataframe thead th {\n",
       "        text-align: right;\n",
       "    }\n",
       "</style>\n",
       "<table border=\"1\" class=\"dataframe\">\n",
       "  <thead>\n",
       "    <tr style=\"text-align: right;\">\n",
       "      <th></th>\n",
       "      <th>total_bill</th>\n",
       "      <th>tip</th>\n",
       "      <th>sex</th>\n",
       "      <th>smoker</th>\n",
       "      <th>day</th>\n",
       "      <th>time</th>\n",
       "      <th>size</th>\n",
       "    </tr>\n",
       "  </thead>\n",
       "  <tbody>\n",
       "    <tr>\n",
       "      <th>239</th>\n",
       "      <td>29.03</td>\n",
       "      <td>5.92</td>\n",
       "      <td>Male</td>\n",
       "      <td>No</td>\n",
       "      <td>Sat</td>\n",
       "      <td>Dinner</td>\n",
       "      <td>3</td>\n",
       "    </tr>\n",
       "    <tr>\n",
       "      <th>240</th>\n",
       "      <td>27.18</td>\n",
       "      <td>2.00</td>\n",
       "      <td>Female</td>\n",
       "      <td>Yes</td>\n",
       "      <td>Sat</td>\n",
       "      <td>Dinner</td>\n",
       "      <td>2</td>\n",
       "    </tr>\n",
       "    <tr>\n",
       "      <th>241</th>\n",
       "      <td>22.67</td>\n",
       "      <td>2.00</td>\n",
       "      <td>Male</td>\n",
       "      <td>Yes</td>\n",
       "      <td>Sat</td>\n",
       "      <td>Dinner</td>\n",
       "      <td>2</td>\n",
       "    </tr>\n",
       "    <tr>\n",
       "      <th>242</th>\n",
       "      <td>17.82</td>\n",
       "      <td>1.75</td>\n",
       "      <td>Male</td>\n",
       "      <td>No</td>\n",
       "      <td>Sat</td>\n",
       "      <td>Dinner</td>\n",
       "      <td>2</td>\n",
       "    </tr>\n",
       "    <tr>\n",
       "      <th>243</th>\n",
       "      <td>18.78</td>\n",
       "      <td>3.00</td>\n",
       "      <td>Female</td>\n",
       "      <td>No</td>\n",
       "      <td>Thur</td>\n",
       "      <td>Dinner</td>\n",
       "      <td>2</td>\n",
       "    </tr>\n",
       "  </tbody>\n",
       "</table>\n",
       "</div>"
      ],
      "text/plain": [
       "     total_bill   tip     sex smoker   day    time  size\n",
       "239       29.03  5.92    Male     No   Sat  Dinner     3\n",
       "240       27.18  2.00  Female    Yes   Sat  Dinner     2\n",
       "241       22.67  2.00    Male    Yes   Sat  Dinner     2\n",
       "242       17.82  1.75    Male     No   Sat  Dinner     2\n",
       "243       18.78  3.00  Female     No  Thur  Dinner     2"
      ]
     },
     "execution_count": 21,
     "metadata": {},
     "output_type": "execute_result"
    }
   ],
   "source": [
    "df = pd.read_csv('./datasets/tip.csv')\n",
    "df.tail()"
   ]
  },
  {
   "cell_type": "markdown",
   "id": "02bd0e4c",
   "metadata": {},
   "source": [
    "## HIỂU DỮ LIỆU"
   ]
  },
  {
   "cell_type": "markdown",
   "id": "d846edfc",
   "metadata": {},
   "source": [
    "1. Đọc dữ liệu\n",
    "2. Xoá cột `Unnamed: 0`\n",
    "3. Cho biết dữ liệu có bao nhiêu dòng, bao nhiêu thuộc tính.\n",
    "4. Trong các thuộc tính, thuộc tính nào là thuộc tính phân loại, thuộc tính nào là thuộc tính định lượng\n",
    "5. Có bao nhiêu nam, bao nhiêu nữ. Tỷ lệ bao nhiêu?\n",
    "6. Có bao nhiêu người hút thuốc. Tỷ lệ bao nhiêu?\n",
    "7. Ngày nào trong tuần khách hàng hay đến dùng bữa nhất. Tỷ lệ bao nhiêu?\n",
    "8. Nhà hàng phục vụ bữa ăn nào nhiều nhất (Breakfast, Lunch, Dinner)?\n",
    "9. Nhóm khách hàng dùng bữa tại nhà hàng nhiều nhất là bao nhiêu người?\n",
    "10. Trung bình trong một bữa ăn nhà hàng phục vụ mấy khách?"
   ]
  },
  {
   "cell_type": "code",
   "execution_count": 46,
   "id": "204db654",
   "metadata": {},
   "outputs": [
    {
     "name": "stdout",
     "output_type": "stream",
     "text": [
      "(244, 7)\n",
      "<class 'pandas.core.frame.DataFrame'>\n",
      "RangeIndex: 244 entries, 0 to 243\n",
      "Data columns (total 7 columns):\n",
      "total_bill    244 non-null float64\n",
      "tip           244 non-null float64\n",
      "sex           244 non-null object\n",
      "smoker        244 non-null object\n",
      "day           244 non-null object\n",
      "time          244 non-null object\n",
      "size          244 non-null int64\n",
      "dtypes: float64(2), int64(1), object(4)\n",
      "memory usage: 13.4+ KB\n",
      "None\n",
      "Ty le nam - nu: 64.34% - 35.66%\n",
      "So nguoi hut thuoc: 93, chiem ty le: 38.11%\n",
      "Ngay trong tuan khach hang dung bua nhieu nhat: Sat, chiem ty le: 35.66%\n",
      "Nha hang phuc vu bua an nhieu nhatt: Dinner\n",
      "Nhom khach hang dung bua nhieu nhat co: 6 nguoi\n",
      "Trung binh nha hang phuc vu 2.57 khach\n"
     ]
    }
   ],
   "source": [
    "# 1. Đọc dữ liệu\n",
    "# 2. Xoá cột `Unnamed: 0`\n",
    "# 3. Cho biết dữ liệu có bao nhiêu dòng, bao nhiêu thuộc tính.\n",
    "print(df.shape)\n",
    "# 4. Trong các thuộc tính, thuộc tính nào là thuộc tính phân loại, thuộc tính nào là thuộc tính định lượng\n",
    "print(df.info())\n",
    "# 5. Có bao nhiêu nam, bao nhiêu nữ. Tỷ lệ bao nhiêu?\n",
    "gender_counts = df['sex'].value_counts()\n",
    "print(f\"Ty le nam - nu: {gender_counts['Male'] * 100 / df.shape[0]:.2f}% - {gender_counts['Female'] * 100 / df.shape[0]:.2f}%\")\n",
    "# 6. Có bao nhiêu người hút thuốc. Tỷ lệ bao nhiêu?\n",
    "smoker_counts = df['smoker'].value_counts()\n",
    "print(f\"So nguoi hut thuoc: {smoker_counts['Yes']}, chiem ty le: {smoker_counts['Yes'] * 100 / df.shape[0]:.2f}%\")\n",
    "# 7. Ngày nào trong tuần khách hàng hay đến dùng bữa nhất. Tỷ lệ bao nhiêu?\n",
    "day_counts = df['day'].value_counts()\n",
    "most_frequent_day = day_counts.idxmax()\n",
    "most_frequent_day_percentage = day_counts.max() * 100 / df.shape[0]\n",
    "print(f\"Ngay trong tuan khach hang dung bua nhieu nhat: {most_frequent_day}, chiem ty le: {most_frequent_day_percentage:.2f}%\")\n",
    "# 8. Nhà hàng phục vụ bữa ăn nào nhiều nhất (Breakfast, Lunch, Dinner)?\n",
    "time_counts = df.time.value_counts()\n",
    "most_frequent_time = time_counts.idxmax()\n",
    "print(f\"Nha hang phuc vu bua an nhieu nhatt: {most_frequent_time}\")\n",
    "# 9. Nhóm khách hàng dùng bữa tại nhà hàng nhiều nhất là bao nhiêu người?\n",
    "print(f\"Nhom khach hang dung bua nhieu nhat co: {df['size'].max()} nguoi\")\n",
    "# 10. Trung bình trong một bữa ăn nhà hàng phục vụ mấy khách?\n",
    "print(f\"Trung binh nha hang phuc vu {df['size'].mean():.2f} khach\")"
   ]
  },
  {
   "cell_type": "markdown",
   "id": "f00a377c",
   "metadata": {},
   "source": [
    "## YẾU TỐ ẢNH HƯỞNG ĐẾN TIỀN TIP\n",
    "\n",
    "Trong phần này, chúng ta thử tìm hiểu về tiền tip tại nhà hàng và các yếu tố có thể ảnh hưởng đến nó"
   ]
  },
  {
   "cell_type": "markdown",
   "id": "ba58ca8d",
   "metadata": {},
   "source": [
    "1. Tỷ lệ nhận được tiền tip của nhà hàng là bao nhiêu?\n",
    "2. Tỷ lệ tiền tip trên tổng hóa đơn là bao nhiêu?\n",
    "3. Giữa nam và nữ ai tip nhiều tiền hơn, ai tip thường xuyên hơn?\n",
    "4. Giữa người hút thuốc và người không hút thuốc ai tip nhiều tiền hơn, ai tip thường xuyên hơn?\n",
    "5. Thống kê tổng số tiền tip nhận được theo ngày."
   ]
  },
  {
   "cell_type": "code",
   "execution_count": 101,
   "id": "088c55a6",
   "metadata": {},
   "outputs": [
    {
     "name": "stdout",
     "output_type": "stream",
     "text": [
      "Ty le nhan duoc tien tip: 100.0%\n",
      "Ty le tien tip tren tong hoa don: 15.15%\n",
      "Tong tien tip cua nam - nu: 485.07 - 246.51\n",
      "So lan tip cua nam - nu: 157 - 87\n",
      "Tong so tien tip cua nguoi khong hut thuoc - hut thuoc: 451.77 - 279.81\n",
      "So lan tip cua nguoi khong hut thuoc - hut thuoc: 151 - 93\n"
     ]
    },
    {
     "data": {
      "text/plain": [
       "day\n",
       "Fri      51.96\n",
       "Sat     260.40\n",
       "Sun     247.39\n",
       "Thur    171.83\n",
       "Name: tip, dtype: float64"
      ]
     },
     "execution_count": 101,
     "metadata": {},
     "output_type": "execute_result"
    }
   ],
   "source": [
    "# 1. Tỷ lệ nhận được tiền tip của nhà hàng là bao nhiêu?\n",
    "tip_counts = len(df[df.tip > 0])\n",
    "print(f\"Ty le nhan duoc tien tip: {tip_counts * 100 / len(df)}%\")\n",
    "# 2. Tỷ lệ tiền tip trên tổng hóa đơn là bao nhiêu?\n",
    "tip_sum = df[df.tip > 0]['tip'].sum()\n",
    "total_bill_sum = df['total_bill'].sum()\n",
    "print(f\"Ty le tien tip tren tong hoa don: {tip_sum * 100 / total_bill_sum:.2f}%\")\n",
    "# 3. Giữa nam và nữ ai tip nhiều tiền hơn, ai tip thường xuyên hơn?\n",
    "total_tip_of_male = df['tip'][df['sex'] == 'Male'].sum()\n",
    "total_tip_of_female = df['tip'][df['sex'] == 'Female'].sum()\n",
    "tip_counts_of_male = df['tip'][df['sex'] == 'Male'].count()\n",
    "tip_counts_of_female = df['tip'][df['sex'] == 'Female'].count()\n",
    "print(f\"Tong tien tip cua nam - nu: {total_tip_of_male:.2f} - {total_tip_of_female:.2f}\")\n",
    "print(f\"So lan tip cua nam - nu: {tip_counts_of_male} - {tip_counts_of_female}\")\n",
    "# 4. Giữa người hút thuốc và người không hút thuốc ai tip nhiều tiền hơn, ai tip thường xuyên hơn?\n",
    "def total_tip(status):\n",
    "    return df['tip'][df['smoker'] == status].sum()\n",
    "def tip_counts(status):\n",
    "    return df['tip'][df['smoker'] == status].count()\n",
    "print(f\"Tong so tien tip cua nguoi khong hut thuoc - hut thuoc: {total_tip('No')} - {total_tip('Yes')}\")\n",
    "print(f\"So lan tip cua nguoi khong hut thuoc - hut thuoc: {tip_counts('No')} - {tip_counts('Yes')}\")\n",
    "# 5. Thống kê tổng số tiền tip nhận được theo ngày.\n",
    "df.groupby('day')['tip'].sum()"
   ]
  },
  {
   "cell_type": "markdown",
   "id": "de38a759",
   "metadata": {},
   "source": [
    "# TRỰC QUAN DỮ LIỆU\n",
    "\n",
    "Để dễ hình dung, bạn hãy trực quan với một số câu hỏi sau đây:\n",
    "\n",
    "1. Vẽ đồ thị thể hiện tổng tiền tip theo ngày\n",
    "2. Vẽ đồ thị thể hiện tổng tiền tip theo bữa ăn (time)\n",
    "3. Vẽ đồ thị histogram của tổng hoá đơn\n",
    "4. Vẽ đồ thị boxplot của tổng hoá đơn\n",
    "5. Vẽ đồ thị để kiểm tra sự liên quan giữa tổng hoá đơn và tiền tip.\n",
    "6. So sánh số tiền mà khách hàng đã chi giữa các ngày trong tuần."
   ]
  },
  {
   "cell_type": "markdown",
   "id": "d5c79bea",
   "metadata": {},
   "source": [
    "## Với Matplotlib\n",
    "\n",
    "Bạn hãy trực quan với thư viện matplotlib"
   ]
  },
  {
   "cell_type": "code",
   "execution_count": 106,
   "id": "516b7d8e",
   "metadata": {},
   "outputs": [
    {
     "data": {
      "image/png": "[encoded data removed]",
      "text/plain": [
       "<Figure size 720x432 with 1 Axes>"
      ]
     },
     "metadata": {
      "needs_background": "light"
     },
     "output_type": "display_data"
    }
   ],
   "source": [
    "import matplotlib.pyplot as plt\n",
    "\n",
    "# 1. Vẽ đồ thị thể hiện tổng tiền tip theo ngày\n",
    "plt.figure(figsize=(10, 6))\n",
    "total_tip_by_day = df.groupby('day')['tip'].sum()\n",
    "total_tip_by_day.plot(kind='bar')\n",
    "plt.xlabel('day')\n",
    "plt.ylabel('Total')\n",
    "plt.title('Tong tien tip theo ngay')\n",
    "plt.show()"
   ]
  },
  {
   "cell_type": "code",
   "execution_count": null,
   "id": "5a22f02f",
   "metadata": {},
   "outputs": [
    {
     "data": {
      "text/plain": [
       "<matplotlib.axes._subplots.AxesSubplot at 0x23239c81da0>"
      ]
     },
     "execution_count": 107,
     "metadata": {},
     "output_type": "execute_result"
    },
    {
     "data": {
      "image/png": "[encoded data removed]",
      "text/plain": [
       "<Figure size 432x288 with 1 Axes>"
      ]
     },
     "metadata": {
      "needs_background": "light"
     },
     "output_type": "display_data"
    }
   ],
   "source": [
    "# 2. Vẽ đồ thị thể hiện tổng tiền tip theo bữa ăn (time)\n",
    "total_tip_by_time = df.groupby('time')['tip'].sum()\n",
    "total_tip_by_time.plot(kind='bar')"
   ]
  },
  {
   "cell_type": "code",
   "execution_count": 110,
   "id": "c7a56807",
   "metadata": {},
   "outputs": [
    {
     "data": {
      "image/png": "[encoded data removed]",
      "text/plain": [
       "<Figure size 720x432 with 1 Axes>"
      ]
     },
     "metadata": {
      "needs_background": "light"
     },
     "output_type": "display_data"
    }
   ],
   "source": [
    "# 3. Vẽ đồ thị histogram của tổng hoá đơn\n",
    "plt.figure(figsize=(10, 6))\n",
    "plt.hist(df['total_bill'], bins=20, edgecolor='black')\n",
    "plt.xlabel('Total Bill')\n",
    "plt.ylabel('Frequency')\n",
    "plt.title('Histogram of Total Bill')\n",
    "plt.show()"
   ]
  },
  {
   "cell_type": "code",
   "execution_count": 111,
   "id": "8e46b935",
   "metadata": {},
   "outputs": [
    {
     "data": {
      "image/png": "[encoded data removed]",
      "text/plain": [
       "<Figure size 720x432 with 1 Axes>"
      ]
     },
     "metadata": {
      "needs_background": "light"
     },
     "output_type": "display_data"
    }
   ],
   "source": [
    "# 4. Vẽ đồ thị boxplot của tổng hoá đơn\n",
    "plt.figure(figsize=(10, 6))\n",
    "plt.boxplot(df['total_bill'])\n",
    "plt.xlabel('Total Bill')\n",
    "plt.title('Boxplot of Total Bill')\n",
    "plt.show()"
   ]
  },
  {
   "cell_type": "code",
   "execution_count": 113,
   "id": "ed34a676",
   "metadata": {},
   "outputs": [
    {
     "data": {
      "image/png": "[encoded data removed]",
      "text/plain": [
       "<Figure size 720x432 with 1 Axes>"
      ]
     },
     "metadata": {
      "needs_background": "light"
     },
     "output_type": "display_data"
    }
   ],
   "source": [
    "# 5. Vẽ đồ thị để kiểm tra sự liên quan giữa tổng hoá đơn và tiền tip.\n",
    "plt.figure(figsize=(10, 6))\n",
    "plt.scatter(data=df, x='tip', y='total_bill')\n",
    "plt.xlabel('Tip')\n",
    "plt.ylabel('Total Bill')\n",
    "plt.title('Scatter plot of Total Bill vs Tip')\n",
    "plt.show()"
   ]
  },
  {
   "cell_type": "code",
   "execution_count": 114,
   "id": "180c3401",
   "metadata": {},
   "outputs": [
    {
     "data": {
      "text/plain": [
       "<matplotlib.axes._subplots.AxesSubplot at 0x23239e76898>"
      ]
     },
     "execution_count": 114,
     "metadata": {},
     "output_type": "execute_result"
    },
    {
     "data": {
      "image/png": "[encoded data removed]",
      "text/plain": [
       "<Figure size 720x432 with 1 Axes>"
      ]
     },
     "metadata": {
      "needs_background": "light"
     },
     "output_type": "display_data"
    }
   ],
   "source": [
    "# 6. So sánh số tiền mà khách hàng đã chi giữa các ngày trong tuần.\n",
    "total_bill_sum_per_day = df.groupby('day')['total_bill'].sum()\n",
    "plt.figure(figsize=(10, 6))\n",
    "total_bill_sum_per_day.plot(kind='bar')"
   ]
  },
  {
   "cell_type": "code",
   "execution_count": 121,
   "id": "d1a0decc",
   "metadata": {},
   "outputs": [
    {
     "data": {
      "text/plain": [
       "([<matplotlib.patches.Wedge at 0x2323a0ecd30>,\n",
       "  <matplotlib.patches.Wedge at 0x2323a0f54a8>],\n",
       " [Text(-0.4012471747910624, 1.0242073543585746, 'No'),\n",
       "  Text(0.4012470788978477, -1.024207391926042, 'Yes')],\n",
       " [Text(-0.2188620953405795, 0.5586585569228588, '61.9%'),\n",
       "  Text(0.21886204303518964, -0.5586585774142045, '38.1%')])"
      ]
     },
     "execution_count": 121,
     "metadata": {},
     "output_type": "execute_result"
    },
    {
     "data": {
      "image/png": "[encoded data removed]",
      "text/plain": [
       "<Figure size 432x288 with 1 Axes>"
      ]
     },
     "metadata": {},
     "output_type": "display_data"
    }
   ],
   "source": [
    "smoker_counts = df.smoker.value_counts()\n",
    "plt.pie(smoker_counts, labels=smoker_counts.index, autopct='%1.1f%%')"
   ]
  },
  {
   "cell_type": "markdown",
   "id": "816cf7bf",
   "metadata": {},
   "source": [
    "## Với Seaborn\n",
    "\n",
    "Bạn hãy tìm hiểu và trực quan với thư viện seaborn"
   ]
  },
  {
   "cell_type": "code",
   "execution_count": 122,
   "id": "eb35f63a",
   "metadata": {},
   "outputs": [],
   "source": [
    "import seaborn as sns"
   ]
  },
  {
   "cell_type": "code",
   "execution_count": null,
   "id": "d1d2b14d",
   "metadata": {},
   "outputs": [],
   "source": [
    "import matplotlib.pyplot as plt\n",
    "import seaborn as sns\n",
    "\n",
    "# 1. Vẽ đồ thị thể hiện tổng tiền tip theo ngày\n",
    "plt.figure(figsize=(10, 6))\n",
    "sns.barplot(x=total_tip_by_day.index, y=total_tip_by_day.values)\n",
    "plt.xlabel('Day')\n",
    "plt.ylabel('Total Tip')\n",
    "plt.title('Total Tip by Day')\n",
    "plt.show()\n",
    "\n",
    "# 2. Vẽ đồ thị thể hiện tổng tiền tip theo bữa ăn (time)\n",
    "plt.figure(figsize=(10, 6))\n",
    "sns.barplot(x=total_tip_by_time.index, y=total_tip_by_time.values)\n",
    "plt.xlabel('Time')\n",
    "plt.ylabel('Total Tip')\n",
    "plt.title('Total Tip by Time')\n",
    "plt.show()\n",
    "\n",
    "# 3. Vẽ đồ thị histogram của tổng hoá đơn\n",
    "plt.figure(figsize=(10, 6))\n",
    "sns.distplot(df['total_bill'], bins=20, kde=True)\n",
    "plt.xlabel('Total Bill')\n",
    "plt.ylabel('Frequency')\n",
    "plt.title('Histogram of Total Bill')\n",
    "plt.show()\n",
    "\n",
    "# 4. Vẽ đồ thị boxplot của tổng hoá đơn\n",
    "plt.figure(figsize=(10, 6))\n",
    "sns.boxplot(x=df['total_bill'])\n",
    "plt.xlabel('Total Bill')\n",
    "plt.title('Boxplot of Total Bill')\n",
    "plt.show()\n",
    "\n",
    "# 5. Vẽ đồ thị để kiểm tra sự liên quan giữa tổng hoá đơn và tiền tip\n",
    "plt.figure(figsize=(10, 6))\n",
    "sns.scatterplot(data=df, x='tip', y='total_bill')\n",
    "plt.xlabel('Tip')\n",
    "plt.ylabel('Total Bill')\n",
    "plt.title('Scatter plot of Total Bill vs Tip')\n",
    "plt.show()\n",
    "\n",
    "# 6. So sánh số tiền mà khách hàng đã chi giữa các ngày trong tuần\n",
    "plt.figure(figsize=(10, 6))\n",
    "sns.barplot(x=total_bill_sum_per_day.index, y=total_bill_sum_per_day.values)\n",
    "plt.xlabel('Day')\n",
    "plt.ylabel('Total Bill')\n",
    "plt.title('Total Bill by Day')\n",
    "plt.show()"
   ]
  },
  {
   "cell_type": "code",
   "execution_count": 5,
   "id": "705dcdc1",
   "metadata": {},
   "outputs": [
    {
     "ename": "ImportError",
     "evalue": "cannot import name 'cbook' from 'matplotlib' (d:\\Download\\App\\Anaconda3\\lib\\site-packages\\matplotlib\\__init__.py)",
     "output_type": "error",
     "traceback": [
      "\u001b[1;31m---------------------------------------------------------------------------\u001b[0m",
      "\u001b[1;31mImportError\u001b[0m                               Traceback (most recent call last)",
      "\u001b[1;32m<ipython-input-5-a0d2faabd9e9>\u001b[0m in \u001b[0;36m<module>\u001b[1;34m\u001b[0m\n\u001b[1;32m----> 1\u001b[1;33m \u001b[1;32mimport\u001b[0m \u001b[0mmatplotlib\u001b[0m\u001b[1;33m.\u001b[0m\u001b[0mpyplot\u001b[0m \u001b[1;32mas\u001b[0m \u001b[0mplt\u001b[0m\u001b[1;33m\u001b[0m\u001b[1;33m\u001b[0m\u001b[0m\n\u001b[0m",
      "\u001b[1;32md:\\Download\\App\\Anaconda3\\lib\\site-packages\\matplotlib\\__init__.py\u001b[0m in \u001b[0;36m<module>\u001b[1;34m\u001b[0m\n\u001b[0;32m    139\u001b[0m \u001b[1;31m# cbook must import matplotlib only within function\u001b[0m\u001b[1;33m\u001b[0m\u001b[1;33m\u001b[0m\u001b[1;33m\u001b[0m\u001b[0m\n\u001b[0;32m    140\u001b[0m \u001b[1;31m# definitions, so it is safe to import from it here.\u001b[0m\u001b[1;33m\u001b[0m\u001b[1;33m\u001b[0m\u001b[1;33m\u001b[0m\u001b[0m\n\u001b[1;32m--> 141\u001b[1;33m \u001b[1;32mfrom\u001b[0m \u001b[1;33m.\u001b[0m \u001b[1;32mimport\u001b[0m \u001b[0mcbook\u001b[0m\u001b[1;33m,\u001b[0m \u001b[0mrcsetup\u001b[0m\u001b[1;33m\u001b[0m\u001b[1;33m\u001b[0m\u001b[0m\n\u001b[0m\u001b[0;32m    142\u001b[0m from matplotlib.cbook import (\n\u001b[0;32m    143\u001b[0m     MatplotlibDeprecationWarning, dedent, get_label, sanitize_sequence)\n",
      "\u001b[1;32md:\\Download\\App\\Anaconda3\\lib\\site-packages\\matplotlib\\rcsetup.py\u001b[0m in \u001b[0;36m<module>\u001b[1;34m\u001b[0m\n\u001b[0;32m     21\u001b[0m \u001b[1;32mimport\u001b[0m \u001b[0msys\u001b[0m\u001b[1;33m\u001b[0m\u001b[1;33m\u001b[0m\u001b[0m\n\u001b[0;32m     22\u001b[0m \u001b[1;33m\u001b[0m\u001b[0m\n\u001b[1;32m---> 23\u001b[1;33m \u001b[1;32mfrom\u001b[0m \u001b[0mmatplotlib\u001b[0m \u001b[1;32mimport\u001b[0m \u001b[0mcbook\u001b[0m\u001b[1;33m\u001b[0m\u001b[1;33m\u001b[0m\u001b[0m\n\u001b[0m\u001b[0;32m     24\u001b[0m \u001b[1;32mfrom\u001b[0m \u001b[0mmatplotlib\u001b[0m\u001b[1;33m.\u001b[0m\u001b[0mcbook\u001b[0m \u001b[1;32mimport\u001b[0m \u001b[0mls_mapper\u001b[0m\u001b[1;33m\u001b[0m\u001b[1;33m\u001b[0m\u001b[0m\n\u001b[0;32m     25\u001b[0m \u001b[1;32mfrom\u001b[0m \u001b[0mmatplotlib\u001b[0m\u001b[1;33m.\u001b[0m\u001b[0mfontconfig_pattern\u001b[0m \u001b[1;32mimport\u001b[0m \u001b[0mparse_fontconfig_pattern\u001b[0m\u001b[1;33m\u001b[0m\u001b[1;33m\u001b[0m\u001b[0m\n",
      "\u001b[1;31mImportError\u001b[0m: cannot import name 'cbook' from 'matplotlib' (d:\\Download\\App\\Anaconda3\\lib\\site-packages\\matplotlib\\__init__.py)"
     ]
    }
   ],
   "source": [
    "import matplotlib.pyplot as plt"
   ]
  },
  {
   "cell_type": "code",
   "execution_count": 7,
   "id": "aaa25406",
   "metadata": {},
   "outputs": [
    {
     "ename": "ImportError",
     "evalue": "cannot import name 'cbook' from 'matplotlib' (d:\\Download\\App\\Anaconda3\\lib\\site-packages\\matplotlib\\__init__.py)",
     "output_type": "error",
     "traceback": [
      "\u001b[1;31m---------------------------------------------------------------------------\u001b[0m",
      "\u001b[1;31mImportError\u001b[0m                               Traceback (most recent call last)",
      "\u001b[1;32m<ipython-input-7-d0e26658953c>\u001b[0m in \u001b[0;36m<module>\u001b[1;34m\u001b[0m\n\u001b[1;32m----> 1\u001b[1;33m \u001b[1;32mimport\u001b[0m \u001b[0mseaborn\u001b[0m \u001b[1;32mas\u001b[0m \u001b[0msns\u001b[0m\u001b[1;33m\u001b[0m\u001b[1;33m\u001b[0m\u001b[0m\n\u001b[0m\u001b[0;32m      2\u001b[0m \u001b[0mprint\u001b[0m\u001b[1;33m(\u001b[0m\u001b[0msns\u001b[0m\u001b[1;33m.\u001b[0m\u001b[0m__version__\u001b[0m\u001b[1;33m)\u001b[0m\u001b[1;33m\u001b[0m\u001b[1;33m\u001b[0m\u001b[0m\n",
      "\u001b[1;32md:\\Download\\App\\Anaconda3\\lib\\site-packages\\seaborn\\__init__.py\u001b[0m in \u001b[0;36m<module>\u001b[1;34m\u001b[0m\n\u001b[0;32m      1\u001b[0m \u001b[1;31m# Capture the original matplotlib rcParams\u001b[0m\u001b[1;33m\u001b[0m\u001b[1;33m\u001b[0m\u001b[1;33m\u001b[0m\u001b[0m\n\u001b[1;32m----> 2\u001b[1;33m \u001b[1;32mimport\u001b[0m \u001b[0mmatplotlib\u001b[0m \u001b[1;32mas\u001b[0m \u001b[0mmpl\u001b[0m\u001b[1;33m\u001b[0m\u001b[1;33m\u001b[0m\u001b[0m\n\u001b[0m\u001b[0;32m      3\u001b[0m \u001b[0m_orig_rc_params\u001b[0m \u001b[1;33m=\u001b[0m \u001b[0mmpl\u001b[0m\u001b[1;33m.\u001b[0m\u001b[0mrcParams\u001b[0m\u001b[1;33m.\u001b[0m\u001b[0mcopy\u001b[0m\u001b[1;33m(\u001b[0m\u001b[1;33m)\u001b[0m\u001b[1;33m\u001b[0m\u001b[1;33m\u001b[0m\u001b[0m\n\u001b[0;32m      4\u001b[0m \u001b[1;33m\u001b[0m\u001b[0m\n\u001b[0;32m      5\u001b[0m \u001b[1;31m# Import seaborn objects\u001b[0m\u001b[1;33m\u001b[0m\u001b[1;33m\u001b[0m\u001b[1;33m\u001b[0m\u001b[0m\n",
      "\u001b[1;32md:\\Download\\App\\Anaconda3\\lib\\site-packages\\matplotlib\\__init__.py\u001b[0m in \u001b[0;36m<module>\u001b[1;34m\u001b[0m\n\u001b[0;32m    139\u001b[0m \u001b[1;31m# cbook must import matplotlib only within function\u001b[0m\u001b[1;33m\u001b[0m\u001b[1;33m\u001b[0m\u001b[1;33m\u001b[0m\u001b[0m\n\u001b[0;32m    140\u001b[0m \u001b[1;31m# definitions, so it is safe to import from it here.\u001b[0m\u001b[1;33m\u001b[0m\u001b[1;33m\u001b[0m\u001b[1;33m\u001b[0m\u001b[0m\n\u001b[1;32m--> 141\u001b[1;33m \u001b[1;32mfrom\u001b[0m \u001b[1;33m.\u001b[0m \u001b[1;32mimport\u001b[0m \u001b[0mcbook\u001b[0m\u001b[1;33m,\u001b[0m \u001b[0mrcsetup\u001b[0m\u001b[1;33m\u001b[0m\u001b[1;33m\u001b[0m\u001b[0m\n\u001b[0m\u001b[0;32m    142\u001b[0m from matplotlib.cbook import (\n\u001b[0;32m    143\u001b[0m     MatplotlibDeprecationWarning, dedent, get_label, sanitize_sequence)\n",
      "\u001b[1;32md:\\Download\\App\\Anaconda3\\lib\\site-packages\\matplotlib\\rcsetup.py\u001b[0m in \u001b[0;36m<module>\u001b[1;34m\u001b[0m\n\u001b[0;32m     21\u001b[0m \u001b[1;32mimport\u001b[0m \u001b[0msys\u001b[0m\u001b[1;33m\u001b[0m\u001b[1;33m\u001b[0m\u001b[0m\n\u001b[0;32m     22\u001b[0m \u001b[1;33m\u001b[0m\u001b[0m\n\u001b[1;32m---> 23\u001b[1;33m \u001b[1;32mfrom\u001b[0m \u001b[0mmatplotlib\u001b[0m \u001b[1;32mimport\u001b[0m \u001b[0mcbook\u001b[0m\u001b[1;33m\u001b[0m\u001b[1;33m\u001b[0m\u001b[0m\n\u001b[0m\u001b[0;32m     24\u001b[0m \u001b[1;32mfrom\u001b[0m \u001b[0mmatplotlib\u001b[0m\u001b[1;33m.\u001b[0m\u001b[0mcbook\u001b[0m \u001b[1;32mimport\u001b[0m \u001b[0mls_mapper\u001b[0m\u001b[1;33m\u001b[0m\u001b[1;33m\u001b[0m\u001b[0m\n\u001b[0;32m     25\u001b[0m \u001b[1;32mfrom\u001b[0m \u001b[0mmatplotlib\u001b[0m\u001b[1;33m.\u001b[0m\u001b[0mfontconfig_pattern\u001b[0m \u001b[1;32mimport\u001b[0m \u001b[0mparse_fontconfig_pattern\u001b[0m\u001b[1;33m\u001b[0m\u001b[1;33m\u001b[0m\u001b[0m\n",
      "\u001b[1;31mImportError\u001b[0m: cannot import name 'cbook' from 'matplotlib' (d:\\Download\\App\\Anaconda3\\lib\\site-packages\\matplotlib\\__init__.py)"
     ]
    }
   ],
   "source": [
    "import seaborn as sns\n",
    "print(sns.__version__)\n"
   ]
  }
 ],
 "metadata": {
  "kernelspec": {
   "display_name": "base",
   "language": "python",
   "name": "python3"
  },
  "language_info": {
   "codemirror_mode": {
    "name": "ipython",
    "version": 3
   },
   "file_extension": ".py",
   "mimetype": "text/x-python",
   "name": "python",
   "nbconvert_exporter": "python",
   "pygments_lexer": "ipython3",
   "version": "3.7.1"
  }
 },
 "nbformat": 4,
 "nbformat_minor": 5
}
