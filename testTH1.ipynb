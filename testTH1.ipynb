{
 "cells": [
  {
   "cell_type": "markdown",
   "metadata": {},
   "source": [
    "1. (3đ) Đọc file dữ liệu thoi_tiet_khong_khi_vn_2023.csv và thực hiện:\n",
    "1.(0.75đ) Hiển thị 10 dòng đầu tiên và 10 dòng cuối cùng của bảng dữ liệu.\n",
    "2.(0.75đ) Cho biết bảng dữ liệu có bao nhiêu dòng và bao nhiêu cột?\n",
    "3.(0.75đ) Cho biết thông tin về các cột dữ liệu và kiểu của từng cột trong bảng.\n",
    "4.(0.75đ) Cho biết số lượng bản ghi bị thiếu giá trị cho các cột: Nhiệt_độ, Lượng_mưa và AQI."
   ]
  },
  {
   "cell_type": "code",
   "execution_count": 4,
   "metadata": {},
   "outputs": [],
   "source": [
    "import pandas as pd\n",
    "import numpy as np\n",
    "import matplotlib.pyplot as plt\n",
    "import seaborn as sns"
   ]
  },
  {
   "cell_type": "code",
   "execution_count": 7,
   "metadata": {},
   "outputs": [
    {
     "data": {
      "text/html": [
       "<div>\n",
       "<style scoped>\n",
       "    .dataframe tbody tr th:only-of-type {\n",
       "        vertical-align: middle;\n",
       "    }\n",
       "\n",
       "    .dataframe tbody tr th {\n",
       "        vertical-align: top;\n",
       "    }\n",
       "\n",
       "    .dataframe thead th {\n",
       "        text-align: right;\n",
       "    }\n",
       "</style>\n",
       "<table border=\"1\" class=\"dataframe\">\n",
       "  <thead>\n",
       "    <tr style=\"text-align: right;\">\n",
       "      <th></th>\n",
       "      <th>Ngày</th>\n",
       "      <th>Thành_phố</th>\n",
       "      <th>Khu_vực</th>\n",
       "      <th>Nhiệt_độ</th>\n",
       "      <th>Áp_suất</th>\n",
       "      <th>Tốc_độ_gió</th>\n",
       "      <th>Hướng_gió</th>\n",
       "      <th>Độ_ẩm</th>\n",
       "      <th>Chỉ_số_UV</th>\n",
       "      <th>Lượng_mưa</th>\n",
       "      <th>Thời_tiết</th>\n",
       "      <th>AQI</th>\n",
       "      <th>PM2.5</th>\n",
       "      <th>PM10</th>\n",
       "      <th>CO</th>\n",
       "      <th>NO2</th>\n",
       "      <th>SO2</th>\n",
       "      <th>O3</th>\n",
       "    </tr>\n",
       "  </thead>\n",
       "  <tbody>\n",
       "    <tr>\n",
       "      <th>0</th>\n",
       "      <td>2023-01-01</td>\n",
       "      <td>Hà Nội</td>\n",
       "      <td>Bắc Bộ</td>\n",
       "      <td>18.1</td>\n",
       "      <td>1007.7</td>\n",
       "      <td>4.6</td>\n",
       "      <td>144</td>\n",
       "      <td>74.9</td>\n",
       "      <td>0.5</td>\n",
       "      <td>1.9</td>\n",
       "      <td>Mưa nhẹ</td>\n",
       "      <td>70.0</td>\n",
       "      <td>57.8</td>\n",
       "      <td>73.9</td>\n",
       "      <td>4.03</td>\n",
       "      <td>20.1</td>\n",
       "      <td>15.4</td>\n",
       "      <td>15.3</td>\n",
       "    </tr>\n",
       "    <tr>\n",
       "      <th>1</th>\n",
       "      <td>2023-01-01</td>\n",
       "      <td>TP Hồ Chí Minh</td>\n",
       "      <td>Nam Bộ</td>\n",
       "      <td>29.5</td>\n",
       "      <td>992.5</td>\n",
       "      <td>2.7</td>\n",
       "      <td>255</td>\n",
       "      <td>70.8</td>\n",
       "      <td>2.0</td>\n",
       "      <td>0.0</td>\n",
       "      <td>Mây</td>\n",
       "      <td>76.0</td>\n",
       "      <td>57.3</td>\n",
       "      <td>84.6</td>\n",
       "      <td>3.86</td>\n",
       "      <td>17.6</td>\n",
       "      <td>10.8</td>\n",
       "      <td>26.0</td>\n",
       "    </tr>\n",
       "    <tr>\n",
       "      <th>2</th>\n",
       "      <td>2023-01-01</td>\n",
       "      <td>Đà Nẵng</td>\n",
       "      <td>Trung Bộ</td>\n",
       "      <td>28.6</td>\n",
       "      <td>1003.0</td>\n",
       "      <td>6.1</td>\n",
       "      <td>31</td>\n",
       "      <td>83.7</td>\n",
       "      <td>2.4</td>\n",
       "      <td>1.2</td>\n",
       "      <td>Mưa nhẹ</td>\n",
       "      <td>53.0</td>\n",
       "      <td>33.9</td>\n",
       "      <td>33.5</td>\n",
       "      <td>3.33</td>\n",
       "      <td>1.9</td>\n",
       "      <td>16.0</td>\n",
       "      <td>10.5</td>\n",
       "    </tr>\n",
       "    <tr>\n",
       "      <th>3</th>\n",
       "      <td>2023-01-01</td>\n",
       "      <td>Hải Phòng</td>\n",
       "      <td>Bắc Bộ</td>\n",
       "      <td>17.3</td>\n",
       "      <td>1002.5</td>\n",
       "      <td>4.9</td>\n",
       "      <td>195</td>\n",
       "      <td>74.0</td>\n",
       "      <td>3.9</td>\n",
       "      <td>0.0</td>\n",
       "      <td>Mây</td>\n",
       "      <td>57.0</td>\n",
       "      <td>48.9</td>\n",
       "      <td>87.7</td>\n",
       "      <td>3.08</td>\n",
       "      <td>18.4</td>\n",
       "      <td>6.9</td>\n",
       "      <td>3.4</td>\n",
       "    </tr>\n",
       "    <tr>\n",
       "      <th>4</th>\n",
       "      <td>2023-01-01</td>\n",
       "      <td>Cần Thơ</td>\n",
       "      <td>Nam Bộ</td>\n",
       "      <td>33.1</td>\n",
       "      <td>994.7</td>\n",
       "      <td>4.1</td>\n",
       "      <td>255</td>\n",
       "      <td>73.2</td>\n",
       "      <td>1.4</td>\n",
       "      <td>0.0</td>\n",
       "      <td>Nắng</td>\n",
       "      <td>63.0</td>\n",
       "      <td>47.7</td>\n",
       "      <td>73.1</td>\n",
       "      <td>3.95</td>\n",
       "      <td>16.1</td>\n",
       "      <td>4.3</td>\n",
       "      <td>25.4</td>\n",
       "    </tr>\n",
       "  </tbody>\n",
       "</table>\n",
       "</div>"
      ],
      "text/plain": [
       "         Ngày       Thành_phố   Khu_vực  Nhiệt_độ  Áp_suất  Tốc_độ_gió  \\\n",
       "0  2023-01-01          Hà Nội    Bắc Bộ      18.1   1007.7         4.6   \n",
       "1  2023-01-01  TP Hồ Chí Minh    Nam Bộ      29.5    992.5         2.7   \n",
       "2  2023-01-01         Đà Nẵng  Trung Bộ      28.6   1003.0         6.1   \n",
       "3  2023-01-01       Hải Phòng    Bắc Bộ      17.3   1002.5         4.9   \n",
       "4  2023-01-01         Cần Thơ    Nam Bộ      33.1    994.7         4.1   \n",
       "\n",
       "   Hướng_gió  Độ_ẩm  Chỉ_số_UV  Lượng_mưa Thời_tiết   AQI  PM2.5  PM10    CO  \\\n",
       "0        144   74.9        0.5        1.9   Mưa nhẹ  70.0   57.8  73.9  4.03   \n",
       "1        255   70.8        2.0        0.0       Mây  76.0   57.3  84.6  3.86   \n",
       "2         31   83.7        2.4        1.2   Mưa nhẹ  53.0   33.9  33.5  3.33   \n",
       "3        195   74.0        3.9        0.0       Mây  57.0   48.9  87.7  3.08   \n",
       "4        255   73.2        1.4        0.0      Nắng  63.0   47.7  73.1  3.95   \n",
       "\n",
       "    NO2   SO2    O3  \n",
       "0  20.1  15.4  15.3  \n",
       "1  17.6  10.8  26.0  \n",
       "2   1.9  16.0  10.5  \n",
       "3  18.4   6.9   3.4  \n",
       "4  16.1   4.3  25.4  "
      ]
     },
     "execution_count": 7,
     "metadata": {},
     "output_type": "execute_result"
    }
   ],
   "source": [
    "df = pd.read_csv('./TH1/thoi_tiet_khong_khi_vn_2023.csv')\n",
    "df.head(10)"
   ]
  },
  {
   "cell_type": "code",
   "execution_count": 9,
   "metadata": {},
   "outputs": [
    {
     "data": {
      "text/html": [
       "<div>\n",
       "<style scoped>\n",
       "    .dataframe tbody tr th:only-of-type {\n",
       "        vertical-align: middle;\n",
       "    }\n",
       "\n",
       "    .dataframe tbody tr th {\n",
       "        vertical-align: top;\n",
       "    }\n",
       "\n",
       "    .dataframe thead th {\n",
       "        text-align: right;\n",
       "    }\n",
       "</style>\n",
       "<table border=\"1\" class=\"dataframe\">\n",
       "  <thead>\n",
       "    <tr style=\"text-align: right;\">\n",
       "      <th></th>\n",
       "      <th>Ngày</th>\n",
       "      <th>Thành_phố</th>\n",
       "      <th>Khu_vực</th>\n",
       "      <th>Nhiệt_độ</th>\n",
       "      <th>Áp_suất</th>\n",
       "      <th>Tốc_độ_gió</th>\n",
       "      <th>Hướng_gió</th>\n",
       "      <th>Độ_ẩm</th>\n",
       "      <th>Chỉ_số_UV</th>\n",
       "      <th>Lượng_mưa</th>\n",
       "      <th>Thời_tiết</th>\n",
       "      <th>AQI</th>\n",
       "      <th>PM2.5</th>\n",
       "      <th>PM10</th>\n",
       "      <th>CO</th>\n",
       "      <th>NO2</th>\n",
       "      <th>SO2</th>\n",
       "      <th>O3</th>\n",
       "    </tr>\n",
       "  </thead>\n",
       "  <tbody>\n",
       "    <tr>\n",
       "      <th>3640</th>\n",
       "      <td>2023-12-31</td>\n",
       "      <td>Hà Nội</td>\n",
       "      <td>Bắc Bộ</td>\n",
       "      <td>17.0</td>\n",
       "      <td>998.2</td>\n",
       "      <td>3.3</td>\n",
       "      <td>333</td>\n",
       "      <td>63.0</td>\n",
       "      <td>3.0</td>\n",
       "      <td>0.0</td>\n",
       "      <td>Nắng</td>\n",
       "      <td>66.0</td>\n",
       "      <td>47.1</td>\n",
       "      <td>75.2</td>\n",
       "      <td>3.33</td>\n",
       "      <td>9.6</td>\n",
       "      <td>10.9</td>\n",
       "      <td>21.6</td>\n",
       "    </tr>\n",
       "    <tr>\n",
       "      <th>3641</th>\n",
       "      <td>2023-12-31</td>\n",
       "      <td>TP Hồ Chí Minh</td>\n",
       "      <td>Nam Bộ</td>\n",
       "      <td>35.6</td>\n",
       "      <td>994.7</td>\n",
       "      <td>4.8</td>\n",
       "      <td>299</td>\n",
       "      <td>67.2</td>\n",
       "      <td>2.1</td>\n",
       "      <td>0.0</td>\n",
       "      <td>Mây</td>\n",
       "      <td>71.0</td>\n",
       "      <td>50.5</td>\n",
       "      <td>87.2</td>\n",
       "      <td>3.33</td>\n",
       "      <td>10.3</td>\n",
       "      <td>9.1</td>\n",
       "      <td>13.1</td>\n",
       "    </tr>\n",
       "    <tr>\n",
       "      <th>3642</th>\n",
       "      <td>2023-12-31</td>\n",
       "      <td>Đà Nẵng</td>\n",
       "      <td>Trung Bộ</td>\n",
       "      <td>25.2</td>\n",
       "      <td>1003.5</td>\n",
       "      <td>1.9</td>\n",
       "      <td>270</td>\n",
       "      <td>86.1</td>\n",
       "      <td>2.7</td>\n",
       "      <td>0.0</td>\n",
       "      <td>Nắng</td>\n",
       "      <td>66.0</td>\n",
       "      <td>51.0</td>\n",
       "      <td>61.1</td>\n",
       "      <td>3.15</td>\n",
       "      <td>12.0</td>\n",
       "      <td>7.7</td>\n",
       "      <td>24.0</td>\n",
       "    </tr>\n",
       "    <tr>\n",
       "      <th>3643</th>\n",
       "      <td>2023-12-31</td>\n",
       "      <td>Hải Phòng</td>\n",
       "      <td>Bắc Bộ</td>\n",
       "      <td>24.7</td>\n",
       "      <td>994.2</td>\n",
       "      <td>1.7</td>\n",
       "      <td>105</td>\n",
       "      <td>69.1</td>\n",
       "      <td>12.0</td>\n",
       "      <td>8.3</td>\n",
       "      <td>Mưa vừa</td>\n",
       "      <td>42.0</td>\n",
       "      <td>28.1</td>\n",
       "      <td>21.7</td>\n",
       "      <td>2.60</td>\n",
       "      <td>7.4</td>\n",
       "      <td>3.5</td>\n",
       "      <td>3.1</td>\n",
       "    </tr>\n",
       "    <tr>\n",
       "      <th>3644</th>\n",
       "      <td>2023-12-31</td>\n",
       "      <td>Cần Thơ</td>\n",
       "      <td>Nam Bộ</td>\n",
       "      <td>31.6</td>\n",
       "      <td>998.6</td>\n",
       "      <td>4.3</td>\n",
       "      <td>358</td>\n",
       "      <td>75.2</td>\n",
       "      <td>4.9</td>\n",
       "      <td>0.0</td>\n",
       "      <td>Mây</td>\n",
       "      <td>61.0</td>\n",
       "      <td>47.8</td>\n",
       "      <td>72.3</td>\n",
       "      <td>3.63</td>\n",
       "      <td>12.8</td>\n",
       "      <td>5.1</td>\n",
       "      <td>18.5</td>\n",
       "    </tr>\n",
       "    <tr>\n",
       "      <th>3645</th>\n",
       "      <td>2023-12-31</td>\n",
       "      <td>Huế</td>\n",
       "      <td>Trung Bộ</td>\n",
       "      <td>26.5</td>\n",
       "      <td>1002.8</td>\n",
       "      <td>5.5</td>\n",
       "      <td>79</td>\n",
       "      <td>78.0</td>\n",
       "      <td>3.7</td>\n",
       "      <td>0.0</td>\n",
       "      <td>Nắng</td>\n",
       "      <td>46.0</td>\n",
       "      <td>25.1</td>\n",
       "      <td>29.5</td>\n",
       "      <td>2.21</td>\n",
       "      <td>21.5</td>\n",
       "      <td>8.6</td>\n",
       "      <td>8.7</td>\n",
       "    </tr>\n",
       "    <tr>\n",
       "      <th>3646</th>\n",
       "      <td>2023-12-31</td>\n",
       "      <td>Nha Trang</td>\n",
       "      <td>Trung Bộ</td>\n",
       "      <td>22.2</td>\n",
       "      <td>1002.2</td>\n",
       "      <td>2.8</td>\n",
       "      <td>39</td>\n",
       "      <td>84.1</td>\n",
       "      <td>0.9</td>\n",
       "      <td>8.2</td>\n",
       "      <td>Mưa vừa</td>\n",
       "      <td>51.0</td>\n",
       "      <td>49.7</td>\n",
       "      <td>70.6</td>\n",
       "      <td>1.70</td>\n",
       "      <td>8.1</td>\n",
       "      <td>1.5</td>\n",
       "      <td>11.2</td>\n",
       "    </tr>\n",
       "    <tr>\n",
       "      <th>3647</th>\n",
       "      <td>2023-12-31</td>\n",
       "      <td>Đà Lạt</td>\n",
       "      <td>Tây Nguyên</td>\n",
       "      <td>21.3</td>\n",
       "      <td>1011.5</td>\n",
       "      <td>5.2</td>\n",
       "      <td>320</td>\n",
       "      <td>69.2</td>\n",
       "      <td>2.6</td>\n",
       "      <td>0.0</td>\n",
       "      <td>Mây</td>\n",
       "      <td>28.0</td>\n",
       "      <td>18.1</td>\n",
       "      <td>28.5</td>\n",
       "      <td>1.64</td>\n",
       "      <td>0.0</td>\n",
       "      <td>3.5</td>\n",
       "      <td>5.9</td>\n",
       "    </tr>\n",
       "    <tr>\n",
       "      <th>3648</th>\n",
       "      <td>2023-12-31</td>\n",
       "      <td>Vũng Tàu</td>\n",
       "      <td>Nam Bộ</td>\n",
       "      <td>29.9</td>\n",
       "      <td>1003.4</td>\n",
       "      <td>1.5</td>\n",
       "      <td>265</td>\n",
       "      <td>78.6</td>\n",
       "      <td>0.6</td>\n",
       "      <td>0.0</td>\n",
       "      <td>Nắng</td>\n",
       "      <td>48.0</td>\n",
       "      <td>29.9</td>\n",
       "      <td>51.1</td>\n",
       "      <td>2.90</td>\n",
       "      <td>7.9</td>\n",
       "      <td>3.5</td>\n",
       "      <td>13.2</td>\n",
       "    </tr>\n",
       "    <tr>\n",
       "      <th>3649</th>\n",
       "      <td>2023-12-31</td>\n",
       "      <td>Hạ Long</td>\n",
       "      <td>Bắc Bộ</td>\n",
       "      <td>22.7</td>\n",
       "      <td>1008.8</td>\n",
       "      <td>3.9</td>\n",
       "      <td>124</td>\n",
       "      <td>80.0</td>\n",
       "      <td>1.1</td>\n",
       "      <td>0.0</td>\n",
       "      <td>Nắng</td>\n",
       "      <td>53.0</td>\n",
       "      <td>33.2</td>\n",
       "      <td>41.7</td>\n",
       "      <td>2.67</td>\n",
       "      <td>12.6</td>\n",
       "      <td>10.8</td>\n",
       "      <td>21.7</td>\n",
       "    </tr>\n",
       "  </tbody>\n",
       "</table>\n",
       "</div>"
      ],
      "text/plain": [
       "            Ngày       Thành_phố     Khu_vực  Nhiệt_độ  Áp_suất  Tốc_độ_gió  \\\n",
       "3640  2023-12-31          Hà Nội      Bắc Bộ      17.0    998.2         3.3   \n",
       "3641  2023-12-31  TP Hồ Chí Minh      Nam Bộ      35.6    994.7         4.8   \n",
       "3642  2023-12-31         Đà Nẵng    Trung Bộ      25.2   1003.5         1.9   \n",
       "3643  2023-12-31       Hải Phòng      Bắc Bộ      24.7    994.2         1.7   \n",
       "3644  2023-12-31         Cần Thơ      Nam Bộ      31.6    998.6         4.3   \n",
       "3645  2023-12-31             Huế    Trung Bộ      26.5   1002.8         5.5   \n",
       "3646  2023-12-31       Nha Trang    Trung Bộ      22.2   1002.2         2.8   \n",
       "3647  2023-12-31          Đà Lạt  Tây Nguyên      21.3   1011.5         5.2   \n",
       "3648  2023-12-31        Vũng Tàu      Nam Bộ      29.9   1003.4         1.5   \n",
       "3649  2023-12-31         Hạ Long      Bắc Bộ      22.7   1008.8         3.9   \n",
       "\n",
       "      Hướng_gió  Độ_ẩm  Chỉ_số_UV  Lượng_mưa Thời_tiết   AQI  PM2.5  PM10  \\\n",
       "3640        333   63.0        3.0        0.0      Nắng  66.0   47.1  75.2   \n",
       "3641        299   67.2        2.1        0.0       Mây  71.0   50.5  87.2   \n",
       "3642        270   86.1        2.7        0.0      Nắng  66.0   51.0  61.1   \n",
       "3643        105   69.1       12.0        8.3   Mưa vừa  42.0   28.1  21.7   \n",
       "3644        358   75.2        4.9        0.0       Mây  61.0   47.8  72.3   \n",
       "3645         79   78.0        3.7        0.0      Nắng  46.0   25.1  29.5   \n",
       "3646         39   84.1        0.9        8.2   Mưa vừa  51.0   49.7  70.6   \n",
       "3647        320   69.2        2.6        0.0       Mây  28.0   18.1  28.5   \n",
       "3648        265   78.6        0.6        0.0      Nắng  48.0   29.9  51.1   \n",
       "3649        124   80.0        1.1        0.0      Nắng  53.0   33.2  41.7   \n",
       "\n",
       "        CO   NO2   SO2    O3  \n",
       "3640  3.33   9.6  10.9  21.6  \n",
       "3641  3.33  10.3   9.1  13.1  \n",
       "3642  3.15  12.0   7.7  24.0  \n",
       "3643  2.60   7.4   3.5   3.1  \n",
       "3644  3.63  12.8   5.1  18.5  \n",
       "3645  2.21  21.5   8.6   8.7  \n",
       "3646  1.70   8.1   1.5  11.2  \n",
       "3647  1.64   0.0   3.5   5.9  \n",
       "3648  2.90   7.9   3.5  13.2  \n",
       "3649  2.67  12.6  10.8  21.7  "
      ]
     },
     "execution_count": 9,
     "metadata": {},
     "output_type": "execute_result"
    }
   ],
   "source": [
    "df[-10:]"
   ]
  },
  {
   "cell_type": "code",
   "execution_count": 12,
   "metadata": {},
   "outputs": [
    {
     "data": {
      "text/plain": [
       "(3650, 18)"
      ]
     },
     "execution_count": 12,
     "metadata": {},
     "output_type": "execute_result"
    }
   ],
   "source": [
    "df.shape"
   ]
  },
  {
   "cell_type": "code",
   "execution_count": 14,
   "metadata": {},
   "outputs": [
    {
     "name": "stdout",
     "output_type": "stream",
     "text": [
      "<class 'pandas.core.frame.DataFrame'>\n",
      "RangeIndex: 3650 entries, 0 to 3649\n",
      "Data columns (total 18 columns):\n",
      " #   Column      Non-Null Count  Dtype  \n",
      "---  ------      --------------  -----  \n",
      " 0   Ngày        3650 non-null   object \n",
      " 1   Thành_phố   3650 non-null   object \n",
      " 2   Khu_vực     3650 non-null   object \n",
      " 3   Nhiệt_độ    3645 non-null   float64\n",
      " 4   Áp_suất     3639 non-null   float64\n",
      " 5   Tốc_độ_gió  3650 non-null   float64\n",
      " 6   Hướng_gió   3650 non-null   int64  \n",
      " 7   Độ_ẩm       3646 non-null   float64\n",
      " 8   Chỉ_số_UV   3650 non-null   float64\n",
      " 9   Lượng_mưa   3646 non-null   float64\n",
      " 10  Thời_tiết   3650 non-null   object \n",
      " 11  AQI         3644 non-null   float64\n",
      " 12  PM2.5       3646 non-null   float64\n",
      " 13  PM10        3648 non-null   float64\n",
      " 14  CO          3650 non-null   float64\n",
      " 15  NO2         3650 non-null   float64\n",
      " 16  SO2         3650 non-null   float64\n",
      " 17  O3          3650 non-null   float64\n",
      "dtypes: float64(13), int64(1), object(4)\n",
      "memory usage: 513.4+ KB\n"
     ]
    }
   ],
   "source": [
    "df.info()"
   ]
  },
  {
   "cell_type": "code",
   "execution_count": 17,
   "metadata": {},
   "outputs": [
    {
     "data": {
      "text/plain": [
       "Nhiệt_độ     5\n",
       "Lượng_mưa    4\n",
       "AQI          6\n",
       "dtype: int64"
      ]
     },
     "execution_count": 17,
     "metadata": {},
     "output_type": "execute_result"
    }
   ],
   "source": [
    "df[['Nhiệt_độ', 'Lượng_mưa', 'AQI']].isna().sum()"
   ]
  },
  {
   "cell_type": "code",
   "execution_count": 21,
   "metadata": {},
   "outputs": [
    {
     "name": "stdout",
     "output_type": "stream",
     "text": [
      "count    3645.000000\n",
      "mean       26.621756\n",
      "std         5.981226\n",
      "min         9.300000\n",
      "25%        21.900000\n",
      "50%        28.500000\n",
      "75%        31.100000\n",
      "max        39.300000\n",
      "Name: Nhiệt_độ, dtype: float64\n",
      "29.999999999999996\n"
     ]
    }
   ],
   "source": [
    "# 2. (2.25đ) Với cột Nhiệt_độ, hãy tính các trị thống kê:\n",
    "nhiet_do = df.Nhiệt_độ\n",
    "# 1.(0.75đ) Trung bình (mean), trung vị (median) và mode của nhiệt độ.\n",
    "print(nhiet_do.describe())\n",
    "# 2.(0.75đ) Độ lệch chuẩn (standard deviation) và phương sai (variance).\n",
    "# 3.(0.75đ) Nhiệt độ thấp nhất, cao nhất và biên độ nhiệt (range).\n",
    "print(nhiet_do.max() - nhiet_do.min())"
   ]
  },
  {
   "cell_type": "code",
   "execution_count": 47,
   "metadata": {},
   "outputs": [
    {
     "name": "stdout",
     "output_type": "stream",
     "text": [
      "365\n",
      "365\n"
     ]
    },
    {
     "data": {
      "image/png": "[encoded data removed]",
      "text/plain": [
       "<Figure size 720x432 with 1 Axes>"
      ]
     },
     "metadata": {},
     "output_type": "display_data"
    }
   ],
   "source": [
    "# 3. (1.5đ) Dựa vào dữ liệu cột Thời_tiết, anh/chị hãy thực hiện:\n",
    "thoi_tiet_theo_ngay = df.groupby('Ngày')['Thời_tiết']\n",
    "# 1.(0.75đ) Đếm số ngày có thời tiết \"Nắng\" và số ngày có thời tiết \"Mưa to\" \n",
    "# hoặc \"Dông\".\n",
    "print(thoi_tiet_theo_ngay.apply(lambda x: x.isin(['Nắng', 'Mưa to', 'Dông']).any()).sum())\n",
    "print(df[df.Thời_tiết.isin(['Nắng', 'Mưa to', 'Dông'])]['Ngày'].nunique())\n",
    "# (0.75đ) Vẽ đồ thị Pie để so sánh phân bố các loại thời tiết trong năm.\n",
    "thoi_tiet = df.Thời_tiết.value_counts()\n",
    "plt.figure(figsize=(10, 6))\n",
    "\n",
    "plt.pie(thoi_tiet, labels=thoi_tiet.index, autopct='%1.1f%%')\n",
    "plt.show()\n"
   ]
  },
  {
   "cell_type": "code",
   "execution_count": 62,
   "metadata": {
    "scrolled": true
   },
   "outputs": [
    {
     "name": "stdout",
     "output_type": "stream",
     "text": [
      "        AQI       Thành_phố\n",
      "3421  103.0  TP Hồ Chí Minh\n",
      "2631  102.0  TP Hồ Chí Minh\n",
      "261    97.0  TP Hồ Chí Minh\n",
      "1231   97.0  TP Hồ Chí Minh\n",
      "3610   97.0          Hà Nội\n",
      "280    96.0          Hà Nội\n",
      "2611   95.0  TP Hồ Chí Minh\n",
      "1121   94.0  TP Hồ Chí Minh\n",
      "2691   94.0  TP Hồ Chí Minh\n",
      "241    93.0  TP Hồ Chí Minh\n",
      "471    93.0  TP Hồ Chí Minh\n",
      "2114   93.0         Cần Thơ\n",
      "3223   93.0       Hải Phòng\n",
      "541    92.0  TP Hồ Chí Minh\n",
      "641    92.0  TP Hồ Chí Minh\n",
      "1263   92.0       Hải Phòng\n",
      "1761   92.0  TP Hồ Chí Minh\n",
      "1770   92.0          Hà Nội\n",
      "20     91.0          Hà Nội\n",
      "500    91.0          Hà Nội\n"
     ]
    },
    {
     "data": {
      "text/plain": [
       "'Đà Lạt'"
      ]
     },
     "execution_count": 62,
     "metadata": {},
     "output_type": "execute_result"
    }
   ],
   "source": [
    "# 4. (1.75đ)\n",
    "# 1.(0.75đ) Liệt kê 20 ngày có chỉ số AQI cao nhất và thành phố tương ứng.\n",
    "most_AQI_and_city = df.nlargest(20, 'AQI')[['AQI', 'Thành_phố']]\n",
    "print(most_AQI_and_city)\n",
    "# 2.(0.75đ) Tính nhiệt độ trung bình theo tháng cho mỗi thành phố và hiển thị kết quả.\n",
    "df['Tháng'] = pd.to_datetime(df.Ngày).dt.month\n",
    "df.groupby(['Thành_phố', 'Tháng'])['Nhiệt_độ'].mean()\n",
    "# 3.(0.25đ) Cho biết thành phố có lượng mưa trung bình năm cao nhất.\n",
    "df.groupby(['Thành_phố'])['Lượng_mưa'].mean().idxmax()"
   ]
  },
  {
   "cell_type": "code",
   "execution_count": 63,
   "metadata": {},
   "outputs": [
    {
     "name": "stdout",
     "output_type": "stream",
     "text": [
      "<class 'pandas.core.frame.DataFrame'>\n",
      "RangeIndex: 3650 entries, 0 to 3649\n",
      "Data columns (total 19 columns):\n",
      " #   Column      Non-Null Count  Dtype  \n",
      "---  ------      --------------  -----  \n",
      " 0   Ngày        3650 non-null   object \n",
      " 1   Thành_phố   3650 non-null   object \n",
      " 2   Khu_vực     3650 non-null   object \n",
      " 3   Nhiệt_độ    3645 non-null   float64\n",
      " 4   Áp_suất     3639 non-null   float64\n",
      " 5   Tốc_độ_gió  3650 non-null   float64\n",
      " 6   Hướng_gió   3650 non-null   int64  \n",
      " 7   Độ_ẩm       3646 non-null   float64\n",
      " 8   Chỉ_số_UV   3650 non-null   float64\n",
      " 9   Lượng_mưa   3646 non-null   float64\n",
      " 10  Thời_tiết   3650 non-null   object \n",
      " 11  AQI         3644 non-null   float64\n",
      " 12  PM2.5       3646 non-null   float64\n",
      " 13  PM10        3648 non-null   float64\n",
      " 14  CO          3650 non-null   float64\n",
      " 15  NO2         3650 non-null   float64\n",
      " 16  SO2         3650 non-null   float64\n",
      " 17  O3          3650 non-null   float64\n",
      " 18  Tháng       3650 non-null   int64  \n",
      "dtypes: float64(13), int64(2), object(4)\n",
      "memory usage: 541.9+ KB\n"
     ]
    }
   ],
   "source": [
    "df.info()"
   ]
  },
  {
   "cell_type": "code",
   "execution_count": 83,
   "metadata": {},
   "outputs": [
    {
     "data": {
      "image/png": "[encoded data removed]",
      "text/plain": [
       "<Figure size 432x288 with 1 Axes>"
      ]
     },
     "metadata": {
      "needs_background": "light"
     },
     "output_type": "display_data"
    },
    {
     "data": {
      "image/png": "[encoded data removed]",
      "text/plain": [
       "<Figure size 432x288 with 1 Axes>"
      ]
     },
     "metadata": {},
     "output_type": "display_data"
    },
    {
     "data": {
      "image/png": "[encoded data removed]",
      "text/plain": [
       "<Figure size 432x288 with 1 Axes>"
      ]
     },
     "metadata": {
      "needs_background": "light"
     },
     "output_type": "display_data"
    }
   ],
   "source": [
    "# 5. (1.5đ)\n",
    "# 1.(0.75đ) Thống kê để hoàn thành bảng số liệu dưới đây.\n",
    "mean_nd_lm_aqi = df.groupby(['Khu_vực'])[['Nhiệt_độ', 'Lượng_mưa', 'AQI']].mean()\n",
    "# 2.(0.75đ) Từ đó trực quan hóa dữ liệu Bảng 1 bằng đồ thị Bar.\n",
    "mean_nd_lm_aqi.plot(kind='bar')\n",
    "plt.show()\n",
    "\n",
    "\n",
    "mean_nd_tp = df.groupby(['Thành_phố'])['Nhiệt_độ'].mean()\n",
    "dis_tt = df.Thời_tiết.value_counts()\n",
    "dis_tt.plot(kind='pie', autopct='%1.1f%%', startangle=90)\n",
    "plt.show()\n",
    "\n",
    "df.Nhiệt_độ.value_counts().plot(kind='hist', bins=100)\n",
    "plt.show()\n",
    "\n",
    "\n"
   ]
  },
  {
   "cell_type": "code",
   "execution_count": 94,
   "metadata": {},
   "outputs": [
    {
     "data": {
      "image/png": "[encoded data removed]",
      "text/plain": [
       "<Figure size 432x288 with 1 Axes>"
      ]
     },
     "metadata": {
      "needs_background": "light"
     },
     "output_type": "display_data"
    },
    {
     "data": {
      "image/png": "[encoded data removed]",
      "text/plain": [
       "<Figure size 432x288 with 1 Axes>"
      ]
     },
     "metadata": {
      "needs_background": "light"
     },
     "output_type": "display_data"
    },
    {
     "data": {
      "text/plain": [
       "<AxesSubplot:xlabel='Nhiệt_độ', ylabel='Thành_phố'>"
      ]
     },
     "execution_count": 94,
     "metadata": {},
     "output_type": "execute_result"
    },
    {
     "data": {
      "image/png": "[encoded data removed]",
      "text/plain": [
       "<Figure size 432x288 with 1 Axes>"
      ]
     },
     "metadata": {
      "needs_background": "light"
     },
     "output_type": "display_data"
    }
   ],
   "source": [
    "df.AQI.value_counts().plot(kind='hist', bins=100)\n",
    "plt.show()\n",
    "\n",
    "sns.boxplot(x=df.Thành_phố, y=df.Tốc_độ_gió)\n",
    "plt.show()\n",
    "\n",
    "sns.scatterplot(x=df.Nhiệt_độ, y=df.Thành_phố, hue=df.Độ_ẩm)"
   ]
  },
  {
   "cell_type": "code",
   "execution_count": null,
   "metadata": {},
   "outputs": [],
   "source": [
    "# Main Parameters in matplotlib.pyplot.scatter\n",
    "# x (required)\n",
    "\n",
    "# The data for the x-axis.\n",
    "# This should be a 1D array or list of values that represent the x-coordinates.\n",
    "# y (required)\n",
    "\n",
    "# The data for the y-axis.\n",
    "# This should be a 1D array or list of values that represent the y-coordinates.\n",
    "# s (optional)\n",
    "\n",
    "# The size of the points (markers) in the scatter plot.\n",
    "# Can be a single value (all points have the same size) or an array of values (each point has a different size).\n",
    "# The size is typically represented in points squared.\n",
    "# Example: s=100 will make the points larger, and s=[10, 20, 30] will vary the point sizes.\n",
    "# c (optional)\n",
    "\n",
    "# The color of the points in the scatter plot.\n",
    "# Can be a single color (e.g., 'red', 'blue', '#FF5733'), a list/array of colors, or a numerical array, which will be mapped to a color scale (colormap).\n",
    "# Example: c='red' or c=[1, 2, 3] (using color mapping).\n",
    "# cmap (optional)\n",
    "\n",
    "# A colormap to map numerical values in c to a range of colors.\n",
    "# Example: cmap='viridis' to use the 'viridis' colormap.\n",
    "# alpha (optional)\n",
    "\n",
    "# The transparency of the points (value between 0 and 1).\n",
    "# alpha=0 means completely transparent, and alpha=1 means completely opaque.\n",
    "# Example: alpha=0.5 will make the points semi-transparent.\n",
    "# marker (optional)\n",
    "\n",
    "# The shape of the points in the scatter plot.\n",
    "# Examples: 'o' for circles, 's' for squares, '^' for triangles, etc.\n",
    "# Example: marker='x' will create 'x' markers.\n",
    "# linewidths (optional)\n",
    "\n",
    "# The width of the edge lines around the markers.\n",
    "# Example: linewidths=1 will set the edge width of the markers to 1.\n",
    "# edgecolors (optional)\n",
    "\n",
    "# The color of the edges of the markers.\n",
    "# Can be a single color or an array of colors.\n",
    "# Example: edgecolors='black' will make the edges black.\n",
    "# label (optional)\n",
    "\n",
    "# The label for the data series to display in a legend (if you have multiple data sets plotted together).\n",
    "# Example: label='Group A'.\n",
    "# zorder (optional)\n",
    "# The order in which the points are drawn relative to other plot elements. Higher values are drawn on top.\n",
    "# Example: zorder=2.\n",
    "# grid (optional)\n",
    "# Boolean, whether to display gridlines or not in the plot.\n",
    "# Example: grid=True or grid=False.\n",
    "# figsize (optional)\n",
    "# The size of the plot itself.\n",
    "# You can specify it in inches using (width, height) format.\n",
    "import matplotlib.pyplot as plt\n",
    "\n",
    "# Example data\n",
    "x = [1, 2, 3, 4, 5]\n",
    "y = [5, 4, 3, 2, 1]\n",
    "sizes = [100, 200, 300, 400, 500]\n",
    "colors = [0, 1, 2, 3, 4]  # Numeric values to map colors\n",
    "\n",
    "# Scatter plot with custom parameters\n",
    "plt.scatter(x, y, \n",
    "            s=sizes, \n",
    "            c=colors, \n",
    "            cmap='viridis',  # Colormap\n",
    "            alpha=0.7,       # Transparency\n",
    "            marker='o',      # Circle markers\n",
    "            edgecolors='black', # Black edges\n",
    "            linewidths=1,    # Line width of edges\n",
    "            label='Data Points')  # Legend label\n",
    "\n",
    "plt.title('Custom Scatter Plot')\n",
    "plt.xlabel('X Values')\n",
    "plt.ylabel('Y Values')\n",
    "\n",
    "# Show colorbar to map the colors\n",
    "plt.colorbar()\n",
    "\n",
    "# Show the legend\n",
    "plt.legend()\n",
    "\n",
    "plt.show()\n"
   ]
  }
 ],
 "metadata": {
  "kernelspec": {
   "display_name": "Python 3",
   "language": "python",
   "name": "python3"
  },
  "language_info": {
   "codemirror_mode": {
    "name": "ipython",
    "version": 3
   },
   "file_extension": ".py",
   "mimetype": "text/x-python",
   "name": "python",
   "nbconvert_exporter": "python",
   "pygments_lexer": "ipython3",
   "version": "3.7.1"
  }
 },
 "nbformat": 4,
 "nbformat_minor": 2
}
