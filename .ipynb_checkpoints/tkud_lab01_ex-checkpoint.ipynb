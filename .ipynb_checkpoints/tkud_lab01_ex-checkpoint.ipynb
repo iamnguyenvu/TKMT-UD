{
 "cells": [
  {
   "cell_type": "markdown",
   "metadata": {
    "id": "Cj3g7_Xjv0cQ"
   },
   "source": [
    "# Lab 01 - Bài tập"
   ]
  },
  {
   "cell_type": "markdown",
   "metadata": {
    "id": "uHya_O8Nv9Bg"
   },
   "source": [
    "## PYTHON\n"
   ]
  },
  {
   "cell_type": "markdown",
   "metadata": {},
   "source": [
    "1. Viết chương trình nhập vào số nguyên n (n>0). In ra các số nguyên tố từ 1..n\n"
   ]
  },
  {
   "cell_type": "code",
   "execution_count": 1,
   "metadata": {
    "id": "AnQZ06Hxxwlo"
   },
   "outputs": [
    {
     "name": "stdout",
     "output_type": "stream",
     "text": [
      "9\n",
      "False\n"
     ]
    }
   ],
   "source": [
    "def primeNumber(n):\n",
    "    while n <= 0:\n",
    "        n = int(input())\n",
    "    return n > 1 and all(n % i != 0 for i in range(2, int(n**0.5) +1))\n",
    "    \n",
    "n = int(input())\n",
    "print(primeNumber(n))"
   ]
  },
  {
   "cell_type": "markdown",
   "metadata": {
    "id": "XpmGHRLRxx34"
   },
   "source": [
    "2. Viết chương trình nhập vào số nguyên n có 3 chữ số. Tính tổng các chữ số của n"
   ]
  },
  {
   "cell_type": "code",
   "execution_count": 2,
   "metadata": {
    "id": "AXOFJ9Iwvtvh"
   },
   "outputs": [
    {
     "name": "stdout",
     "output_type": "stream",
     "text": [
      "546\n",
      "15\n"
     ]
    }
   ],
   "source": [
    "def sumNumber(n):\n",
    "    while len(n) != 3:\n",
    "        n = input()\n",
    "    return sum(map(int, str(n)))\n",
    "    \n",
    "n = input()\n",
    "print(sumNumber(n))"
   ]
  },
  {
   "cell_type": "markdown",
   "metadata": {
    "id": "oba6gvmwyFrZ"
   },
   "source": [
    "3. Viết chương trình nhập vào một dãy các số nguyên được cách nhau bởi khoảng trắng (VD: 32 8 4 6 9...) lưu vào python ở dạng mảng. Thực hiện\n",
    "\n",
    "- Xuất mảng\n",
    "- Tính tổng các phần tử của mảng\n",
    "- Tìm số lớn nhất\n",
    "- Tìm số bé nhất\n",
    "- Sắp xếp mảng theo thứ tự giảm dần\n",
    "- In ra các số chẵn trong mảng"
   ]
  },
  {
   "cell_type": "code",
   "execution_count": 3,
   "metadata": {
    "id": "9XBwANmGyFyY"
   },
   "outputs": [
    {
     "name": "stdout",
     "output_type": "stream",
     "text": [
      "10 7 5 9 3\n",
      "[10, 7, 5, 9, 3]\n",
      "34\n",
      "10\n",
      "3\n",
      "[10, 9, 7, 5, 3]\n",
      "[10]\n"
     ]
    }
   ],
   "source": [
    "def func(lst):\n",
    "    print(lst)\n",
    "    print(sum(lst))\n",
    "    print(max(lst))\n",
    "    print(min(lst))\n",
    "    lst.sort(reverse = True)\n",
    "    print(lst)\n",
    "    even = [i for i in lst if i % 2 == 0]\n",
    "    print(even)\n",
    "    \n",
    "   \n",
    "lst = list(map(int, input().split())) \n",
    "func(lst)"
   ]
  },
  {
   "cell_type": "markdown",
   "metadata": {
    "id": "hgGOt_Cxyulx"
   },
   "source": [
    "4. Viết chương trình yêu cầu người dùng nhập họ tên. Hiển thị tên người dùng sau khi đã chuẩn hóa. Biết rằng tên đã chuẩn hóa là:\n",
    "- Ký tự đầu viết hoa\n",
    "- Không có khoảng trắng thừa\n",
    "- Không có ký tự đặc biệt"
   ]
  },
  {
   "cell_type": "code",
   "execution_count": null,
   "metadata": {
    "id": "duR4BF8Dyu_w"
   },
   "outputs": [],
   "source": [
    "def capitalizeName(name):\n",
    "    return ' '.join(word.capitalize() for word in name)\n",
    "    \n",
    "name = input().split()\n",
    "print(capitalizeName(name))"
   ]
  },
  {
   "cell_type": "markdown",
   "metadata": {
    "id": "W5KucasA0NSA"
   },
   "source": [
    "5. Viết chương trình nhập vào một số nguyên dương (n>0). Cho biết n có phải là số đối xứng hay không? Biết số đối xứng là số viết xuôi hay viết ngược đều như nhau"
   ]
  },
  {
   "cell_type": "code",
   "execution_count": null,
   "metadata": {
    "id": "FTH5V3je0YPg"
   },
   "outputs": [],
   "source": [
    "def palindromeNumber(n):\n",
    "    return str(n) == str(n)[::-1]\n",
    "\n",
    "n = input()\n",
    "print(palindromeNumber(n))"
   ]
  },
  {
   "cell_type": "markdown",
   "metadata": {},
   "source": [
    "6. Với số nguyên n nhất định, hãy viết chương trình hiển thị dictionary chứa các cặp (i, i*i) ; biết i có giá trị từ 1..n\n"
   ]
  },
  {
   "cell_type": "code",
   "execution_count": null,
   "metadata": {},
   "outputs": [],
   "source": [
    "def dictionary(n):\n",
    "    d = {}\n",
    "    for i in range(1, n + 1):\n",
    "        d[i] = i*i\n",
    "    return d\n",
    "    \n",
    "n = int(input())\n",
    "print(dictionary(n))"
   ]
  },
  {
   "cell_type": "markdown",
   "metadata": {},
   "source": [
    "7. Viết chương trình tìm tất cả các số chia hết cho 7 nhưng không phải bội số của 5, nằm trong đoạn 2000 và 3200 (tính cả 2000 và 3200). Các số thu được sẽ được in thành chuỗi trên một dòng, cách nhau bằng dấu phẩy"
   ]
  },
  {
   "cell_type": "code",
   "execution_count": null,
   "metadata": {},
   "outputs": [],
   "source": [
    "def func():\n",
    "    return ', '.join([str(num) for num in range(2000, 3200 + 1) if num % 7 == 0 and num % 5 != 0])\n",
    "print(func())"
   ]
  },
  {
   "cell_type": "markdown",
   "metadata": {},
   "source": [
    "8. Viết chương trình chấp nhận một chuỗi số, phân tách bằng dấu phẩy từ giao diện điều khiển, tạo ra một List và một tuple chứa mọi số.\n",
    "\n",
    "    Ví dụ:\n",
    "\n",
    "    ```\n",
    "    Đầu vào được cung cấp là '34,67,55,33,12,98' thì đầu ra là:\n",
    "\n",
    "    [34, 67, 55, 33, 12, 98]\n",
    "    (34, 67, 55, 33, 12, 98)\n",
    "    ```\n"
   ]
  },
  {
   "cell_type": "code",
   "execution_count": null,
   "metadata": {},
   "outputs": [],
   "source": [
    "s = list(map(int, input().split(',')))\n",
    "tup = tuple(s)\n",
    "print(s)\n",
    "print(tup)"
   ]
  },
  {
   "cell_type": "markdown",
   "metadata": {},
   "source": [
    "9. Viết hàm nhận vào một danh sách các số nguyên. Hãy viết hàm trả về một danh sách gồm các số không trùng nhau trong danh sách ban đầu"
   ]
  },
  {
   "cell_type": "code",
   "execution_count": null,
   "metadata": {},
   "outputs": [],
   "source": [
    "def createList(lst):\n",
    "    return list(set(lst))\n",
    "\n",
    "lst = input().split()\n",
    "print(createList(lst))"
   ]
  },
  {
   "cell_type": "markdown",
   "metadata": {},
   "source": [
    "10. Viết hàm có tham số đầu vào là một list L có các phần tử là chuỗi. Hãy tạo ra một dictionary D mã hóa, với mỗi một phần tử trong L được mã hóa thành một con số (theo thứ tự từ 0 tăng dần lên 1 đơn vị). Sau đó trả về list đã được mã hóa\n",
    "\n",
    "    Ví dụ:\n",
    "\n",
    "    ```\n",
    "    Cho L = [\"đen\",\"vàng\",\"xanh\",\"vàng\",\"xanh\",\"đỏ\",\"hồng\"]\n",
    "\n",
    "    Xây dựng dictionary mã hóa:\n",
    "    D = {'đen':0,'vàng':1,'xanh':2,'đỏ':3,'hồng':4}\n",
    "\n",
    "    Trả về List mã hóa:\n",
    "    L_mahoa = [0, 1, 2, 1, 2, 3, 4]\n",
    "    ```"
   ]
  },
  {
   "cell_type": "code",
   "execution_count": 4,
   "metadata": {},
   "outputs": [
    {
     "name": "stdout",
     "output_type": "stream",
     "text": [
      "[0, 1, 2, 1, 2, 3, 4]\n"
     ]
    }
   ],
   "source": [
    "def encode(lst):\n",
    "    d = {}\n",
    "    l = []\n",
    "    for word in lst:\n",
    "        if word not in d:\n",
    "            d[word] = len(d)\n",
    "        l.append(d[word])\n",
    "    return l\n",
    "lst = [\"đen\",\"vàng\",\"xanh\",\"vàng\",\"xanh\",\"đỏ\",\"hồng\"]\n",
    "print(encode(lst))"
   ]
  },
  {
   "cell_type": "markdown",
   "metadata": {},
   "source": [
    "---"
   ]
  }
 ],
 "metadata": {
  "colab": {
   "authorship_tag": "ABX9TyOelhBBO7DINQ7b3uUiVhbi",
   "provenance": []
  },
  "kernelspec": {
   "display_name": "Python 3",
   "language": "python",
   "name": "python3"
  },
  "language_info": {
   "codemirror_mode": {
    "name": "ipython",
    "version": 3
   },
   "file_extension": ".py",
   "mimetype": "text/x-python",
   "name": "python",
   "nbconvert_exporter": "python",
   "pygments_lexer": "ipython3",
   "version": "3.7.1"
  }
 },
 "nbformat": 4,
 "nbformat_minor": 1
}
