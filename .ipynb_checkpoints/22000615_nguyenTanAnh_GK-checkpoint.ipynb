{
 "cells": [
  {
   "cell_type": "markdown",
   "metadata": {},
   "source": [
    "masv:22000615\n",
    "Ho Va Ten: Nguyễn Tấn Anh\n",
    "Số máy: 50"
   ]
  },
  {
   "cell_type": "code",
   "execution_count": 1,
   "metadata": {},
   "outputs": [],
   "source": [
    "\n",
    "import pandas as pd \n",
    "import numpy as np \n",
    "import matplotlib.pyplot as plt\n",
    "import seaborn as sns\n",
    "from scipy.stats import binom\n",
    "from scipy.stats import poisson\n",
    "from scipy.stats import norm\n",
    "from scipy.stats import t"
   ]
  },
  {
   "cell_type": "code",
   "execution_count": 2,
   "metadata": {},
   "outputs": [
    {
     "data": {
      "text/html": [
       "<div>\n",
       "<style scoped>\n",
       "    .dataframe tbody tr th:only-of-type {\n",
       "        vertical-align: middle;\n",
       "    }\n",
       "\n",
       "    .dataframe tbody tr th {\n",
       "        vertical-align: top;\n",
       "    }\n",
       "\n",
       "    .dataframe thead th {\n",
       "        text-align: right;\n",
       "    }\n",
       "</style>\n",
       "<table border=\"1\" class=\"dataframe\">\n",
       "  <thead>\n",
       "    <tr style=\"text-align: right;\">\n",
       "      <th></th>\n",
       "      <th>tweet_id</th>\n",
       "      <th>airline_sentiment</th>\n",
       "      <th>airline_sentiment_confidence</th>\n",
       "      <th>negativereason</th>\n",
       "      <th>negativereason_confidence</th>\n",
       "      <th>airline</th>\n",
       "      <th>airline_sentiment_gold</th>\n",
       "      <th>name</th>\n",
       "      <th>negativereason_gold</th>\n",
       "      <th>retweet_count</th>\n",
       "      <th>text</th>\n",
       "      <th>tweet_coord</th>\n",
       "      <th>tweet_created</th>\n",
       "      <th>tweet_location</th>\n",
       "      <th>user_timezone</th>\n",
       "    </tr>\n",
       "  </thead>\n",
       "  <tbody>\n",
       "    <tr>\n",
       "      <th>0</th>\n",
       "      <td>570306133677760513</td>\n",
       "      <td>neutral</td>\n",
       "      <td>1.0000</td>\n",
       "      <td>NaN</td>\n",
       "      <td>NaN</td>\n",
       "      <td>Virgin America</td>\n",
       "      <td>NaN</td>\n",
       "      <td>cairdin</td>\n",
       "      <td>NaN</td>\n",
       "      <td>0</td>\n",
       "      <td>@VirginAmerica What @dhepburn said.</td>\n",
       "      <td>NaN</td>\n",
       "      <td>2015-02-24 11:35:52 -0800</td>\n",
       "      <td>NaN</td>\n",
       "      <td>Eastern Time (US &amp; Canada)</td>\n",
       "    </tr>\n",
       "    <tr>\n",
       "      <th>1</th>\n",
       "      <td>570301130888122368</td>\n",
       "      <td>positive</td>\n",
       "      <td>0.3486</td>\n",
       "      <td>NaN</td>\n",
       "      <td>0.0000</td>\n",
       "      <td>Virgin America</td>\n",
       "      <td>NaN</td>\n",
       "      <td>jnardino</td>\n",
       "      <td>NaN</td>\n",
       "      <td>0</td>\n",
       "      <td>@VirginAmerica plus you've added commercials t...</td>\n",
       "      <td>NaN</td>\n",
       "      <td>2015-02-24 11:15:59 -0800</td>\n",
       "      <td>NaN</td>\n",
       "      <td>Pacific Time (US &amp; Canada)</td>\n",
       "    </tr>\n",
       "    <tr>\n",
       "      <th>2</th>\n",
       "      <td>570301083672813571</td>\n",
       "      <td>neutral</td>\n",
       "      <td>0.6837</td>\n",
       "      <td>NaN</td>\n",
       "      <td>NaN</td>\n",
       "      <td>Virgin America</td>\n",
       "      <td>NaN</td>\n",
       "      <td>yvonnalynn</td>\n",
       "      <td>NaN</td>\n",
       "      <td>0</td>\n",
       "      <td>@VirginAmerica I didn't today... Must mean I n...</td>\n",
       "      <td>NaN</td>\n",
       "      <td>2015-02-24 11:15:48 -0800</td>\n",
       "      <td>Lets Play</td>\n",
       "      <td>Central Time (US &amp; Canada)</td>\n",
       "    </tr>\n",
       "    <tr>\n",
       "      <th>3</th>\n",
       "      <td>570301031407624196</td>\n",
       "      <td>negative</td>\n",
       "      <td>1.0000</td>\n",
       "      <td>Bad Flight</td>\n",
       "      <td>0.7033</td>\n",
       "      <td>Virgin America</td>\n",
       "      <td>NaN</td>\n",
       "      <td>jnardino</td>\n",
       "      <td>NaN</td>\n",
       "      <td>0</td>\n",
       "      <td>@VirginAmerica it's really aggressive to blast...</td>\n",
       "      <td>NaN</td>\n",
       "      <td>2015-02-24 11:15:36 -0800</td>\n",
       "      <td>NaN</td>\n",
       "      <td>Pacific Time (US &amp; Canada)</td>\n",
       "    </tr>\n",
       "    <tr>\n",
       "      <th>4</th>\n",
       "      <td>570300817074462722</td>\n",
       "      <td>negative</td>\n",
       "      <td>1.0000</td>\n",
       "      <td>Can't Tell</td>\n",
       "      <td>1.0000</td>\n",
       "      <td>Virgin America</td>\n",
       "      <td>NaN</td>\n",
       "      <td>jnardino</td>\n",
       "      <td>NaN</td>\n",
       "      <td>0</td>\n",
       "      <td>@VirginAmerica and it's a really big bad thing...</td>\n",
       "      <td>NaN</td>\n",
       "      <td>2015-02-24 11:14:45 -0800</td>\n",
       "      <td>NaN</td>\n",
       "      <td>Pacific Time (US &amp; Canada)</td>\n",
       "    </tr>\n",
       "  </tbody>\n",
       "</table>\n",
       "</div>"
      ],
      "text/plain": [
       "             tweet_id airline_sentiment  airline_sentiment_confidence  \\\n",
       "0  570306133677760513           neutral                        1.0000   \n",
       "1  570301130888122368          positive                        0.3486   \n",
       "2  570301083672813571           neutral                        0.6837   \n",
       "3  570301031407624196          negative                        1.0000   \n",
       "4  570300817074462722          negative                        1.0000   \n",
       "\n",
       "  negativereason  negativereason_confidence         airline  \\\n",
       "0            NaN                        NaN  Virgin America   \n",
       "1            NaN                     0.0000  Virgin America   \n",
       "2            NaN                        NaN  Virgin America   \n",
       "3     Bad Flight                     0.7033  Virgin America   \n",
       "4     Can't Tell                     1.0000  Virgin America   \n",
       "\n",
       "  airline_sentiment_gold        name negativereason_gold  retweet_count  \\\n",
       "0                    NaN     cairdin                 NaN              0   \n",
       "1                    NaN    jnardino                 NaN              0   \n",
       "2                    NaN  yvonnalynn                 NaN              0   \n",
       "3                    NaN    jnardino                 NaN              0   \n",
       "4                    NaN    jnardino                 NaN              0   \n",
       "\n",
       "                                                text tweet_coord  \\\n",
       "0                @VirginAmerica What @dhepburn said.         NaN   \n",
       "1  @VirginAmerica plus you've added commercials t...         NaN   \n",
       "2  @VirginAmerica I didn't today... Must mean I n...         NaN   \n",
       "3  @VirginAmerica it's really aggressive to blast...         NaN   \n",
       "4  @VirginAmerica and it's a really big bad thing...         NaN   \n",
       "\n",
       "               tweet_created tweet_location               user_timezone  \n",
       "0  2015-02-24 11:35:52 -0800            NaN  Eastern Time (US & Canada)  \n",
       "1  2015-02-24 11:15:59 -0800            NaN  Pacific Time (US & Canada)  \n",
       "2  2015-02-24 11:15:48 -0800      Lets Play  Central Time (US & Canada)  \n",
       "3  2015-02-24 11:15:36 -0800            NaN  Pacific Time (US & Canada)  \n",
       "4  2015-02-24 11:14:45 -0800            NaN  Pacific Time (US & Canada)  "
      ]
     },
     "execution_count": 2,
     "metadata": {},
     "output_type": "execute_result"
    }
   ],
   "source": [
    "df=pd.read_csv(\"./datasets/Tweets.csv\")\n",
    "df.head()\n"
   ]
  },
  {
   "cell_type": "code",
   "execution_count": null,
   "metadata": {},
   "outputs": [
    {
     "name": "stdout",
     "output_type": "stream",
     "text": [
      "  airline_sentiment  airline_sentiment_confidence negativereason  \\\n",
      "0           neutral                        1.0000            NaN   \n",
      "1          positive                        0.3486            NaN   \n",
      "2           neutral                        0.6837            NaN   \n",
      "3          negative                        1.0000     Bad Flight   \n",
      "4          negative                        1.0000     Can't Tell   \n",
      "5          negative                        1.0000     Can't Tell   \n",
      "6          positive                        0.6745            NaN   \n",
      "7           neutral                        0.6340            NaN   \n",
      "8          positive                        0.6559            NaN   \n",
      "9          positive                        1.0000            NaN   \n",
      "\n",
      "   negativereason_confidence         airline        name        text  \\\n",
      "0                        NaN  Virgin America     cairdin     cairdin   \n",
      "1                     0.0000  Virgin America    jnardino    jnardino   \n",
      "2                        NaN  Virgin America  yvonnalynn  yvonnalynn   \n",
      "3                     0.7033  Virgin America    jnardino    jnardino   \n",
      "4                     1.0000  Virgin America    jnardino    jnardino   \n",
      "5                     0.6842  Virgin America    jnardino    jnardino   \n",
      "6                     0.0000  Virgin America  cjmcginnis  cjmcginnis   \n",
      "7                        NaN  Virgin America       pilot       pilot   \n",
      "8                        NaN  Virgin America    dhepburn    dhepburn   \n",
      "9                        NaN  Virgin America  YupitsTate  YupitsTate   \n",
      "\n",
      "                user_timezone  \n",
      "0  Eastern Time (US & Canada)  \n",
      "1  Pacific Time (US & Canada)  \n",
      "2  Central Time (US & Canada)  \n",
      "3  Pacific Time (US & Canada)  \n",
      "4  Pacific Time (US & Canada)  \n",
      "5  Pacific Time (US & Canada)  \n",
      "6  Pacific Time (US & Canada)  \n",
      "7  Pacific Time (US & Canada)  \n",
      "8  Pacific Time (US & Canada)  \n",
      "9  Eastern Time (US & Canada)  \n"
     ]
    }
   ],
   "source": [
    "df=pd.read_csv(\"TwitterUSAirlineSentiment.csv\")\n",
    "print(df.head(10))"
   ]
  },
  {
   "cell_type": "code",
   "execution_count": 4,
   "metadata": {},
   "outputs": [
    {
     "name": "stdout",
     "output_type": "stream",
     "text": [
      "count        14640\n",
      "unique           3\n",
      "top       negative\n",
      "freq          9178\n",
      "Name: airline_sentiment, dtype: object\n"
     ]
    }
   ],
   "source": [
    "phan_hoi=df['airline_sentiment'].describe()\n",
    "print(phan_hoi)"
   ]
  },
  {
   "cell_type": "code",
   "execution_count": 3,
   "metadata": {},
   "outputs": [
    {
     "data": {
      "text/plain": [
       "count        14640\n",
       "unique           3\n",
       "top       negative\n",
       "freq          9178\n",
       "Name: airline_sentiment, dtype: object"
      ]
     },
     "execution_count": 3,
     "metadata": {},
     "output_type": "execute_result"
    }
   ],
   "source": [
    "df.airline_sentiment.describe()"
   ]
  },
  {
   "cell_type": "code",
   "execution_count": 17,
   "metadata": {},
   "outputs": [
    {
     "name": "stdout",
     "output_type": "stream",
     "text": [
      "gia tri trug binh cua airline_sentiment_confidence:  0.9001688524590152\n"
     ]
    }
   ],
   "source": [
    "mean_1=df['airline_sentiment_confidence'].mean()\n",
    "print('gia tri trug binh cua airline_sentiment_confidence: ',mean_1)"
   ]
  },
  {
   "cell_type": "code",
   "execution_count": 16,
   "metadata": {},
   "outputs": [
    {
     "name": "stdout",
     "output_type": "stream",
     "text": [
      "do lech chuan cua airline_sentiment_confidence:  0.1628299590986659\n"
     ]
    }
   ],
   "source": [
    "std_1=df['airline_sentiment_confidence'].std()\n",
    "print('do lech chuan cua airline_sentiment_confidence: ',std_1)"
   ]
  },
  {
   "cell_type": "code",
   "execution_count": 15,
   "metadata": {},
   "outputs": [
    {
     "name": "stdout",
     "output_type": "stream",
     "text": [
      "gia tri trung binh cua negativereason_confidence 0.6382982797947114\n"
     ]
    }
   ],
   "source": [
    "mean_2=df['negativereason_confidence'].mean()\n",
    "print('gia tri trung binh cua negativereason_confidence',mean_2)"
   ]
  },
  {
   "cell_type": "code",
   "execution_count": 14,
   "metadata": {},
   "outputs": [
    {
     "name": "stdout",
     "output_type": "stream",
     "text": [
      "do lech chuan cua negativereason_confidence:  0.3304397596377413\n"
     ]
    }
   ],
   "source": [
    "std_2=df['negativereason_confidence'].std()\n",
    "print('do lech chuan cua negativereason_confidence: ',std_2)"
   ]
  },
  {
   "cell_type": "code",
   "execution_count": 22,
   "metadata": {},
   "outputs": [
    {
     "name": "stdout",
     "output_type": "stream",
     "text": [
      "Số lượng phản hồi của mỗi hãng máy bay:\n",
      "United            3822\n",
      "US Airways        2913\n",
      "American          2759\n",
      "Southwest         2420\n",
      "Delta             2222\n",
      "Virgin America     504\n",
      "Name: airline, dtype: int64\n",
      "\n",
      "Số lượng phản hồi mỗi mức độ của từng hãng máy bay:\n",
      "airline         airline_sentiment\n",
      "American        negative             1960\n",
      "                neutral               463\n",
      "                positive              336\n",
      "Delta           negative              955\n",
      "                neutral               723\n",
      "                positive              544\n",
      "Southwest       negative             1186\n",
      "                neutral               664\n",
      "                positive              570\n",
      "US Airways      negative             2263\n",
      "                neutral               381\n",
      "                positive              269\n",
      "United          negative             2633\n",
      "                neutral               697\n",
      "                positive              492\n",
      "Virgin America  negative              181\n",
      "                neutral               171\n",
      "                positive              152\n",
      "dtype: int64\n"
     ]
    }
   ],
   "source": [
    "airline_counts = df['airline'].value_counts()\n",
    "sentiment_counts = df.groupby(['airline', 'airline_sentiment']).size()\n",
    "\n",
    "print(\"Số lượng phản hồi của mỗi hãng máy bay:\")\n",
    "print(airline_counts)\n",
    "print(\"\\nSố lượng phản hồi mỗi mức độ của từng hãng máy bay:\")\n",
    "print(sentiment_counts)"
   ]
  },
  {
   "cell_type": "code",
   "execution_count": 23,
   "metadata": {},
   "outputs": [
    {
     "name": "stdout",
     "output_type": "stream",
     "text": [
      "\n",
      "Thông tin thống kê:\n",
      "                                 airline_sentiment_confidence            \\\n",
      "                                                         mean       std   \n",
      "airline        airline_sentiment                                          \n",
      "American       negative                              0.944955  0.124992   \n",
      "               neutral                               0.825938  0.186387   \n",
      "               positive                              0.882302  0.169425   \n",
      "Delta          negative                              0.902202  0.162831   \n",
      "               neutral                               0.829264  0.185266   \n",
      "               positive                              0.867111  0.177139   \n",
      "Southwest      negative                              0.920533  0.147741   \n",
      "               neutral                               0.826109  0.186759   \n",
      "               positive                              0.886105  0.173846   \n",
      "US Airways     negative                              0.945714  0.126575   \n",
      "               neutral                               0.821922  0.187339   \n",
      "               positive                              0.859686  0.191301   \n",
      "United         negative                              0.933383  0.138631   \n",
      "               neutral                               0.809756  0.184240   \n",
      "               positive                              0.856012  0.188985   \n",
      "Virgin America negative                              0.901733  0.158833   \n",
      "               neutral                               0.838368  0.181370   \n",
      "               positive                              0.887978  0.173069   \n",
      "\n",
      "                                 negativereason_confidence            \\\n",
      "                                                      mean       std   \n",
      "airline        airline_sentiment                                       \n",
      "American       negative                           0.744644  0.235690   \n",
      "               neutral                            0.000000  0.000000   \n",
      "               positive                           0.000000  0.000000   \n",
      "Delta          negative                           0.710520  0.240584   \n",
      "               neutral                            0.000000  0.000000   \n",
      "               positive                           0.000000  0.000000   \n",
      "Southwest      negative                           0.732866  0.236287   \n",
      "               neutral                            0.000000  0.000000   \n",
      "               positive                           0.000000  0.000000   \n",
      "US Airways     negative                           0.750028  0.237247   \n",
      "               neutral                            0.000000  0.000000   \n",
      "               positive                           0.000000  0.000000   \n",
      "United         negative                           0.714719  0.240164   \n",
      "               neutral                            0.000000  0.000000   \n",
      "               positive                           0.000000  0.000000   \n",
      "Virgin America negative                           0.717003  0.228287   \n",
      "               neutral                            0.000000  0.000000   \n",
      "               positive                           0.000000  0.000000   \n",
      "\n",
      "                                               user_timezone  \n",
      "                                                    <lambda>  \n",
      "airline        airline_sentiment                              \n",
      "American       negative           Eastern Time (US & Canada)  \n",
      "               neutral            Eastern Time (US & Canada)  \n",
      "               positive           Central Time (US & Canada)  \n",
      "Delta          negative           Eastern Time (US & Canada)  \n",
      "               neutral            Eastern Time (US & Canada)  \n",
      "               positive           Eastern Time (US & Canada)  \n",
      "Southwest      negative           Central Time (US & Canada)  \n",
      "               neutral            Eastern Time (US & Canada)  \n",
      "               positive           Central Time (US & Canada)  \n",
      "US Airways     negative           Eastern Time (US & Canada)  \n",
      "               neutral            Eastern Time (US & Canada)  \n",
      "               positive           Eastern Time (US & Canada)  \n",
      "United         negative           Eastern Time (US & Canada)  \n",
      "               neutral            Eastern Time (US & Canada)  \n",
      "               positive           Eastern Time (US & Canada)  \n",
      "Virgin America negative           Pacific Time (US & Canada)  \n",
      "               neutral            Eastern Time (US & Canada)  \n",
      "               positive           Pacific Time (US & Canada)  \n"
     ]
    }
   ],
   "source": [
    "stats = df.groupby(['airline', 'airline_sentiment']).agg({'airline_sentiment_confidence': ['mean', 'std'], \n",
    "                                                            'negativereason_confidence': ['mean', 'std'],\n",
    "                                                            'user_timezone': lambda x: x.mode()})\n",
    "print(\"\\nThông tin thống kê:\")\n",
    "print(stats)"
   ]
  },
  {
   "cell_type": "code",
   "execution_count": 25,
   "metadata": {},
   "outputs": [
    {
     "data": {
      "image/png": "[encoded data removed]",
      "text/plain": [
       "<Figure size 576x432 with 1 Axes>"
      ]
     },
     "metadata": {},
     "output_type": "display_data"
    }
   ],
   "source": [
    "plt.figure(figsize=(8, 6))\n",
    "plt.pie(airline_counts, labels=airline_counts.index, autopct='%1.1f%%')\n",
    "plt.title('Số lượng phản hồi của mỗi hãng máy bay')\n",
    "plt.show()"
   ]
  },
  {
   "cell_type": "code",
   "execution_count": 30,
   "metadata": {},
   "outputs": [
    {
     "data": {
      "image/png": "[encoded data removed]",
      "text/plain": [
       "<Figure size 720x432 with 1 Axes>"
      ]
     },
     "metadata": {
      "needs_background": "light"
     },
     "output_type": "display_data"
    }
   ],
   "source": [
    "plt.figure(figsize=(10, 6))\n",
    "sns.boxplot(x='airline', y='airline_sentiment_confidence', data=df, hue='airline_sentiment')\n",
    "plt.title('Đồ thị hộp râu của độ tin cậy phản hồi theo hãng máy bay và mức độ phản hồi')\n",
    "plt.show()"
   ]
  },
  {
   "cell_type": "code",
   "execution_count": 31,
   "metadata": {},
   "outputs": [
    {
     "data": {
      "image/png": "[encoded data removed]",
      "text/plain": [
       "<Figure size 720x432 with 2 Axes>"
      ]
     },
     "metadata": {
      "needs_background": "light"
     },
     "output_type": "display_data"
    }
   ],
   "source": [
    "plt.figure(figsize=(10, 6))\n",
    "sns.heatmap(df.corr(), annot=True, cmap='coolwarm')\n",
    "plt.title('Biểu đồ tương quan giữa các thuộc tính')\n",
    "plt.show()"
   ]
  },
  {
   "cell_type": "code",
   "execution_count": 32,
   "metadata": {},
   "outputs": [
    {
     "name": "stdout",
     "output_type": "stream",
     "text": [
      "Xác suất có đường kính nhỏ hơn 20.3mm: 0.9331927987311424\n"
     ]
    }
   ],
   "source": [
    "# a. Xác suất có đường kính nhỏ hơn 20.3mm\n",
    "prob_a = norm.cdf(20.3, loc=20, scale=0.2)\n",
    "print(\"Xác suất có đường kính nhỏ hơn 20.3mm:\", prob_a)"
   ]
  },
  {
   "cell_type": "code",
   "execution_count": 33,
   "metadata": {},
   "outputs": [
    {
     "name": "stdout",
     "output_type": "stream",
     "text": [
      "Xác suất có đường kính trong khoảng 19.9mm đến 20.3mm: 0.624655260005158\n"
     ]
    }
   ],
   "source": [
    "# b. Xác suất có đường kính trong khoảng 19.9mm đến 20.3mm\n",
    "prob_b = norm.cdf(20.3, loc=20, scale=0.2) - norm.cdf(19.9, loc=20, scale=0.2)\n",
    "print(\"Xác suất có đường kính trong khoảng 19.9mm đến 20.3mm:\", prob_b)"
   ]
  },
  {
   "cell_type": "code",
   "execution_count": 34,
   "metadata": {},
   "outputs": [
    {
     "name": "stdout",
     "output_type": "stream",
     "text": [
      "Xác suất có đường kính sai khác với kỳ vọng không quá 0.3mm: 0.8663855974622847\n"
     ]
    }
   ],
   "source": [
    "# c. Xác suất có đường kính sai khác với kỳ vọng không quá 0.3mm\n",
    "prob_c = norm.cdf(20.3, loc=20, scale=0.2) - norm.cdf(19.7, loc=20, scale=0.2)\n",
    "print(\"Xác suất có đường kính sai khác với kỳ vọng không quá 0.3mm:\", prob_c)"
   ]
  }
 ],
 "metadata": {
  "kernelspec": {
   "display_name": "Python 3",
   "language": "python",
   "name": "python3"
  },
  "language_info": {
   "codemirror_mode": {
    "name": "ipython",
    "version": 3
   },
   "file_extension": ".py",
   "mimetype": "text/x-python",
   "name": "python",
   "nbconvert_exporter": "python",
   "pygments_lexer": "ipython3",
   "version": "3.7.1"
  }
 },
 "nbformat": 4,
 "nbformat_minor": 2
}
