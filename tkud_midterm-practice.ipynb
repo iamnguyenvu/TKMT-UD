{
 "cells": [
  {
   "cell_type": "markdown",
   "metadata": {},
   "source": [
    "# Ôn tập giữa kỳ\n"
   ]
  },
  {
   "cell_type": "code",
   "execution_count": 55,
   "metadata": {},
   "outputs": [
    {
     "name": "stderr",
     "output_type": "stream",
     "text": [
      "\n",
      "[notice] A new release of pip is available: 24.3.1 -> 25.0.1\n",
      "[notice] To update, run: python.exe -m pip install --upgrade pip\n"
     ]
    },
    {
     "name": "stdout",
     "output_type": "stream",
     "text": [
      "Note: you may need to restart the kernel to use updated packages.Requirement already satisfied: scipy in c:\\users\\hp\\appdata\\local\\programs\\python\\python313\\lib\\site-packages (1.15.2)\n",
      "Requirement already satisfied: numpy<2.5,>=1.23.5 in c:\\users\\hp\\appdata\\local\\programs\\python\\python313\\lib\\site-packages (from scipy) (2.1.3)\n",
      "\n"
     ]
    }
   ],
   "source": [
    "# import library...\n",
    "# ...\n",
    "\n",
    "%pip install scipy\n",
    "\n",
    "import pandas as pd\n",
    "import numpy as np\n",
    "import matplotlib.pyplot as plt\n",
    "import seaborn as sns\n",
    "from scipy.stats import shapiro, kstest"
   ]
  },
  {
   "cell_type": "markdown",
   "metadata": {},
   "source": [
    "## ĐỀ BÀI\n",
    "\n",
    "Hệ thống giám sát rủi ro dựa trên hành vi (The Behavior Risk Factor Surveilance System - BRFSS) là một cuộc khảo sát qua điện thoại hàng năm với 350.000 người ở Hoa Kỳ. Như tên gọi của nó, BRFSS được thiết kế để xác định các yếu tố nguy cơ ở người trưởng thành và báo cáo các xu hướng sức khỏe mớ. Ví dụ, người trả lời được hỏi về chế độ ăn uống và hoạt động thể chất hàng tuần, tình trạng HIV/AIDS, khả năng sử dụng thuốc lá và thậm chí cả mức độ chi trả dịch vụ chăm sóc sức khỏe của họ. \n",
    "\n",
    "Bộ dữ liệu **brfss_2000** chứa thông tin khảo sát năm 2000, với hơn 200 thông tin. Trong bộ dữ liệu này, ta chỉ khảo sát một số thông tin sau:\n",
    "-\tgenhlth: người khảo sát tự đánh giá sức khỏe (excellent, very good, good, fair or poor)\n",
    "-\texerany: cho biết có hoạt động thể chất nào trong tháng gần nhất hay không, có (1), không (0)\n",
    "-\thlthplan: có bảo hiểm (1) hay không (0)\n",
    "-\tsmoke100: tổng số điếu thuốc đã hút ít nhất\n",
    "-\theight: chiều cao (inches)\n",
    "-\tweight: cân nặng (pounds)\n",
    "-\twtdesire:  cân nặng mong muốn(pounds)\n",
    "-\tage: tuổi\n",
    "-\tgender: giới tính: nam(m), nữ(f)\n"
   ]
  },
  {
   "cell_type": "markdown",
   "metadata": {},
   "source": [
    "### Câu 1:\n",
    "\n",
    "Đọc hai bộ dữ liệu trên và cho biết mỗi bộ dữ liệu có kích thước bao nhiêu dòng, bao nhiêu cột?"
   ]
  },
  {
   "cell_type": "code",
   "execution_count": 102,
   "metadata": {},
   "outputs": [
    {
     "data": {
      "text/plain": [
       "(20000, 9)"
      ]
     },
     "execution_count": 102,
     "metadata": {},
     "output_type": "execute_result"
    }
   ],
   "source": [
    "df1 = pd.read_csv(\"./data/brfss.csv\")\n",
    "df1.shape"
   ]
  },
  {
   "cell_type": "code",
   "execution_count": 4,
   "metadata": {},
   "outputs": [
    {
     "data": {
      "text/plain": [
       "(20000, 9)"
      ]
     },
     "execution_count": 4,
     "metadata": {},
     "output_type": "execute_result"
    }
   ],
   "source": [
    "df2_2000 = pd.read_csv(\"./data/brfss_2000.csv\")\n",
    "df2_2000.shape"
   ]
  },
  {
   "cell_type": "code",
   "execution_count": 5,
   "metadata": {},
   "outputs": [
    {
     "data": {
      "text/html": [
       "<div>\n",
       "<style scoped>\n",
       "    .dataframe tbody tr th:only-of-type {\n",
       "        vertical-align: middle;\n",
       "    }\n",
       "\n",
       "    .dataframe tbody tr th {\n",
       "        vertical-align: top;\n",
       "    }\n",
       "\n",
       "    .dataframe thead th {\n",
       "        text-align: right;\n",
       "    }\n",
       "</style>\n",
       "<table border=\"1\" class=\"dataframe\">\n",
       "  <thead>\n",
       "    <tr style=\"text-align: right;\">\n",
       "      <th></th>\n",
       "      <th>exerany</th>\n",
       "      <th>hlthplan</th>\n",
       "      <th>smoke100</th>\n",
       "      <th>height</th>\n",
       "      <th>weight</th>\n",
       "      <th>wtdesire</th>\n",
       "      <th>age</th>\n",
       "      <th>gender</th>\n",
       "      <th>genhlth</th>\n",
       "    </tr>\n",
       "  </thead>\n",
       "  <tbody>\n",
       "    <tr>\n",
       "      <th>0</th>\n",
       "      <td>0</td>\n",
       "      <td>1</td>\n",
       "      <td>0</td>\n",
       "      <td>70</td>\n",
       "      <td>175</td>\n",
       "      <td>175</td>\n",
       "      <td>77</td>\n",
       "      <td>m</td>\n",
       "      <td>good</td>\n",
       "    </tr>\n",
       "    <tr>\n",
       "      <th>1</th>\n",
       "      <td>0</td>\n",
       "      <td>1</td>\n",
       "      <td>1</td>\n",
       "      <td>64</td>\n",
       "      <td>125</td>\n",
       "      <td>115</td>\n",
       "      <td>33</td>\n",
       "      <td>f</td>\n",
       "      <td>good</td>\n",
       "    </tr>\n",
       "    <tr>\n",
       "      <th>2</th>\n",
       "      <td>1</td>\n",
       "      <td>1</td>\n",
       "      <td>1</td>\n",
       "      <td>60</td>\n",
       "      <td>105</td>\n",
       "      <td>105</td>\n",
       "      <td>49</td>\n",
       "      <td>f</td>\n",
       "      <td>good</td>\n",
       "    </tr>\n",
       "  </tbody>\n",
       "</table>\n",
       "</div>"
      ],
      "text/plain": [
       "   exerany  hlthplan  smoke100  height  weight  wtdesire  age gender genhlth\n",
       "0        0         1         0      70     175       175   77      m    good\n",
       "1        0         1         1      64     125       115   33      f    good\n",
       "2        1         1         1      60     105       105   49      f    good"
      ]
     },
     "execution_count": 5,
     "metadata": {},
     "output_type": "execute_result"
    }
   ],
   "source": [
    "df1.head(3)"
   ]
  },
  {
   "cell_type": "code",
   "execution_count": 6,
   "metadata": {},
   "outputs": [
    {
     "data": {
      "text/html": [
       "<div>\n",
       "<style scoped>\n",
       "    .dataframe tbody tr th:only-of-type {\n",
       "        vertical-align: middle;\n",
       "    }\n",
       "\n",
       "    .dataframe tbody tr th {\n",
       "        vertical-align: top;\n",
       "    }\n",
       "\n",
       "    .dataframe thead th {\n",
       "        text-align: right;\n",
       "    }\n",
       "</style>\n",
       "<table border=\"1\" class=\"dataframe\">\n",
       "  <thead>\n",
       "    <tr style=\"text-align: right;\">\n",
       "      <th></th>\n",
       "      <th>exerany</th>\n",
       "      <th>hlthplan</th>\n",
       "      <th>smoke100</th>\n",
       "      <th>height</th>\n",
       "      <th>weight</th>\n",
       "      <th>wtdesire</th>\n",
       "      <th>age</th>\n",
       "      <th>gender</th>\n",
       "      <th>genhlth</th>\n",
       "    </tr>\n",
       "  </thead>\n",
       "  <tbody>\n",
       "    <tr>\n",
       "      <th>0</th>\n",
       "      <td>0</td>\n",
       "      <td>1</td>\n",
       "      <td>0</td>\n",
       "      <td>70</td>\n",
       "      <td>175</td>\n",
       "      <td>175</td>\n",
       "      <td>77</td>\n",
       "      <td>m</td>\n",
       "      <td>good</td>\n",
       "    </tr>\n",
       "    <tr>\n",
       "      <th>1</th>\n",
       "      <td>0</td>\n",
       "      <td>1</td>\n",
       "      <td>1</td>\n",
       "      <td>64</td>\n",
       "      <td>125</td>\n",
       "      <td>115</td>\n",
       "      <td>33</td>\n",
       "      <td>f</td>\n",
       "      <td>good</td>\n",
       "    </tr>\n",
       "    <tr>\n",
       "      <th>2</th>\n",
       "      <td>1</td>\n",
       "      <td>1</td>\n",
       "      <td>1</td>\n",
       "      <td>60</td>\n",
       "      <td>105</td>\n",
       "      <td>105</td>\n",
       "      <td>49</td>\n",
       "      <td>f</td>\n",
       "      <td>good</td>\n",
       "    </tr>\n",
       "  </tbody>\n",
       "</table>\n",
       "</div>"
      ],
      "text/plain": [
       "   exerany  hlthplan  smoke100  height  weight  wtdesire  age gender genhlth\n",
       "0        0         1         0      70     175       175   77      m    good\n",
       "1        0         1         1      64     125       115   33      f    good\n",
       "2        1         1         1      60     105       105   49      f    good"
      ]
     },
     "execution_count": 6,
     "metadata": {},
     "output_type": "execute_result"
    }
   ],
   "source": [
    "df2_2000.head(3)"
   ]
  },
  {
   "cell_type": "markdown",
   "metadata": {},
   "source": [
    "### Câu 2\n",
    "\n",
    "a, Tính tỷ lệ nam nữ\n",
    "\n",
    "b, Trong số những người tập thể thao, tỷ lệ những người tự đánh giá có sức khỏe kém là bao nhiêu?"
   ]
  },
  {
   "cell_type": "code",
   "execution_count": 38,
   "metadata": {},
   "outputs": [
    {
     "name": "stdout",
     "output_type": "stream",
     "text": [
      "Ty le nam - nu: 47.8450 - 52.1550\n",
      "['good' 'very good' 'excellent' 'fair' 'poor']\n",
      "exerany  genhlth  \n",
      "0        good         1731\n",
      "         very good    1352\n",
      "         fair          857\n",
      "         excellent     762\n",
      "         poor          384\n",
      "1        very good    5620\n",
      "         good         3944\n",
      "         excellent    3895\n",
      "         fair         1162\n",
      "         poor          293\n",
      "Name: count, dtype: int64\n",
      "293\n",
      "Ty le: 1.465 %\n"
     ]
    }
   ],
   "source": [
    "# ### Câu 2\n",
    "\n",
    "# a, Tính tỷ lệ nam nữ\n",
    "print(f\"Ty le nam - nu: {df1[df1.gender == 'm'].shape[0] * 100/ df1.shape[0] :.4f} - {df1[df1.gender == \"f\"].shape[0] * 100 / df1.shape[0] :.4f}\")\n",
    "\n",
    "# b, Trong số những người tập thể thao, tỷ lệ những người tự đánh giá có sức khỏe kém là bao nhiêu?\n",
    "print(df1.genhlth.unique())\n",
    "print(df1.groupby('exerany')['genhlth'].value_counts())\n",
    "\n",
    "ge_bh = df1[(df1.genhlth == \"poor\") & (df1.exerany == 1)]\n",
    "print(ge_bh.shape[0])\n",
    "print(f\"Ty le: {df1[(df1.genhlth == \"poor\") & (df1.exerany == 1)].shape[0] * 100 / df1.shape[0]} %\")"
   ]
  },
  {
   "cell_type": "markdown",
   "metadata": {},
   "source": [
    "### Câu 3\n",
    "\n",
    "a, Đổi đơn vị chiều cao từ inches sang centimet, đơn vị cân nặng từ pound sang kg.\n",
    "\n",
    "b, Tính tỷ lệ những người muốn giảm cân."
   ]
  },
  {
   "cell_type": "code",
   "execution_count": 52,
   "metadata": {},
   "outputs": [
    {
     "name": "stdout",
     "output_type": "stream",
     "text": [
      "12764\n"
     ]
    }
   ],
   "source": [
    "# ### Câu 3\n",
    "\n",
    "# a, Đổi đơn vị chiều cao từ inches sang centimet, đơn vị cân nặng từ pound sang kg.\n",
    "temp = df1.height * 2.54\n",
    "temp.head()\n",
    "temp2 = df1.weight / 2.2\n",
    "temp2.head()\n",
    "\n",
    "# b, Tính tỷ lệ những người muốn giảm cân.\n",
    "print(df1[df1.weight > df1.wtdesire].shape[0])"
   ]
  },
  {
   "cell_type": "markdown",
   "metadata": {},
   "source": [
    "### Câu 4:\n",
    "\n",
    "a, Theo bạn trong các thuộc tính trên, thuộc tính nào có phân phối chuẩn. Vẽ hình minh họa\n",
    "\n",
    "b, Vẽ đồ thị boxplot so sánh cân nặng của những người có tập thể dục"
   ]
  },
  {
   "cell_type": "code",
   "execution_count": 64,
   "metadata": {},
   "outputs": [
    {
     "name": "stdout",
     "output_type": "stream",
     "text": [
      "Shapiro-Wilk Test for exerany: Statistic=0.5421828223838523, p-value=6.754977661529448e-114\n",
      "exerany khong co phan phoi chuan\n",
      "Shapiro-Wilk Test for hlthplan: Statistic=0.38942721482716824, p-value=9.27833268022991e-122\n",
      "hlthplan khong co phan phoi chuan\n",
      "Shapiro-Wilk Test for smoke100: Statistic=0.6354880960859652, p-value=7.310955058115306e-108\n",
      "smoke100 khong co phan phoi chuan\n",
      "Shapiro-Wilk Test for height: Statistic=0.987054461766078, p-value=1.3288945815186308e-38\n",
      "height khong co phan phoi chuan\n",
      "Shapiro-Wilk Test for weight: Statistic=0.9558423095859147, p-value=6.602889055927459e-60\n",
      "weight khong co phan phoi chuan\n",
      "Shapiro-Wilk Test for wtdesire: Statistic=0.9547333832074814, p-value=2.184290092180825e-60\n",
      "wtdesire khong co phan phoi chuan\n",
      "Shapiro-Wilk Test for age: Statistic=0.9636162905179173, p-value=3.1823152845728513e-56\n",
      "age khong co phan phoi chuan\n"
     ]
    },
    {
     "name": "stderr",
     "output_type": "stream",
     "text": [
      "c:\\Users\\HP\\AppData\\Local\\Programs\\Python\\Python313\\Lib\\site-packages\\scipy\\stats\\_axis_nan_policy.py:586: UserWarning: scipy.stats.shapiro: For N > 5000, computed p-value may not be accurate. Current N is 20000.\n",
      "  res = hypotest_fun_out(*samples, **kwds)\n"
     ]
    },
    {
     "data": {
      "image/png": "[encoded data removed]",
      "text/plain": [
       "<Figure size 1000x600 with 1 Axes>"
      ]
     },
     "metadata": {},
     "output_type": "display_data"
    }
   ],
   "source": [
    "# ### Câu 4:\n",
    "\n",
    "# a, Theo bạn trong các thuộc tính trên, thuộc tính nào có phân phối chuẩn. Vẽ hình minh họa\n",
    "for col in df1.select_dtypes(include=[np.number]).columns:\n",
    "    stat, p_value = shapiro(df1[col])\n",
    "    print(f\"Shapiro-Wilk Test for {col}: Statistic={stat}, p-value={p_value}\")\n",
    "    if p_value > 0.05:\n",
    "        print(f\"{col} co phan phoi chuan\")\n",
    "    else:\n",
    "        print(f\"{col} khong co phan phoi chuan\")\n",
    "# b, Vẽ đồ thị boxplot so sánh cân nặng của những người có tập thể dục\n",
    "plt.figure(figsize=(10, 6))\n",
    "sns.boxplot(data=df1, x='exerany', y='weight')\n",
    "plt.show()\n"
   ]
  },
  {
   "cell_type": "markdown",
   "metadata": {},
   "source": [
    "\n",
    "### Câu 5\n",
    "\n",
    "Phân bố tuổi tác trong mẫu: Hãy mô tả phân bố tuổi của người tham gia khảo sát. Tuổi trung bình, độ lệch chuẩn, và các phân vị 25%, 50%, 75% là bao nhiêu?\n",
    "\n"
   ]
  },
  {
   "cell_type": "code",
   "execution_count": 75,
   "metadata": {},
   "outputs": [
    {
     "data": {
      "image/png": "[encoded data removed]",
      "text/plain": [
       "<Figure size 640x480 with 1 Axes>"
      ]
     },
     "metadata": {},
     "output_type": "display_data"
    },
    {
     "name": "stdout",
     "output_type": "stream",
     "text": [
      "Tuoi trung binh, do lech chuan, phan vi 25, 50, 75: \n",
      "45.0682, 17.19268947448503, 31.0, 43.0, 57.0\n"
     ]
    }
   ],
   "source": [
    "\n",
    "# ### Câu 5\n",
    "\n",
    "# Phân bố tuổi tác trong mẫu: Hãy mô tả phân bố tuổi của người tham gia khảo sát. Tuổi trung bình, độ lệch chuẩn, và các phân vị 25%, 50%, 75% là bao nhiêu?\n",
    "plt.hist(df1.age, bins=100)\n",
    "plt.show()\n",
    "\n",
    "print(f\"Tuoi trung binh, do lech chuan, phan vi 25, 50, 75: \\n{df1.age.mean():.4f}, {df1.age.std()}, {df1.age.quantile(0.25)}, {df1.age.quantile(0.5)}, {df1.age.quantile(0.75)}\")\n"
   ]
  },
  {
   "cell_type": "code",
   "execution_count": 76,
   "metadata": {},
   "outputs": [
    {
     "data": {
      "text/html": [
       "<div>\n",
       "<style scoped>\n",
       "    .dataframe tbody tr th:only-of-type {\n",
       "        vertical-align: middle;\n",
       "    }\n",
       "\n",
       "    .dataframe tbody tr th {\n",
       "        vertical-align: top;\n",
       "    }\n",
       "\n",
       "    .dataframe thead th {\n",
       "        text-align: right;\n",
       "    }\n",
       "</style>\n",
       "<table border=\"1\" class=\"dataframe\">\n",
       "  <thead>\n",
       "    <tr style=\"text-align: right;\">\n",
       "      <th></th>\n",
       "      <th>exerany</th>\n",
       "      <th>hlthplan</th>\n",
       "      <th>smoke100</th>\n",
       "      <th>height</th>\n",
       "      <th>weight</th>\n",
       "      <th>wtdesire</th>\n",
       "      <th>age</th>\n",
       "      <th>gender</th>\n",
       "      <th>genhlth</th>\n",
       "    </tr>\n",
       "  </thead>\n",
       "  <tbody>\n",
       "    <tr>\n",
       "      <th>0</th>\n",
       "      <td>0</td>\n",
       "      <td>1</td>\n",
       "      <td>0</td>\n",
       "      <td>70</td>\n",
       "      <td>175</td>\n",
       "      <td>175</td>\n",
       "      <td>77</td>\n",
       "      <td>m</td>\n",
       "      <td>good</td>\n",
       "    </tr>\n",
       "    <tr>\n",
       "      <th>1</th>\n",
       "      <td>0</td>\n",
       "      <td>1</td>\n",
       "      <td>1</td>\n",
       "      <td>64</td>\n",
       "      <td>125</td>\n",
       "      <td>115</td>\n",
       "      <td>33</td>\n",
       "      <td>f</td>\n",
       "      <td>good</td>\n",
       "    </tr>\n",
       "    <tr>\n",
       "      <th>2</th>\n",
       "      <td>1</td>\n",
       "      <td>1</td>\n",
       "      <td>1</td>\n",
       "      <td>60</td>\n",
       "      <td>105</td>\n",
       "      <td>105</td>\n",
       "      <td>49</td>\n",
       "      <td>f</td>\n",
       "      <td>good</td>\n",
       "    </tr>\n",
       "    <tr>\n",
       "      <th>3</th>\n",
       "      <td>1</td>\n",
       "      <td>1</td>\n",
       "      <td>0</td>\n",
       "      <td>66</td>\n",
       "      <td>132</td>\n",
       "      <td>124</td>\n",
       "      <td>42</td>\n",
       "      <td>f</td>\n",
       "      <td>good</td>\n",
       "    </tr>\n",
       "    <tr>\n",
       "      <th>4</th>\n",
       "      <td>0</td>\n",
       "      <td>1</td>\n",
       "      <td>0</td>\n",
       "      <td>61</td>\n",
       "      <td>150</td>\n",
       "      <td>130</td>\n",
       "      <td>55</td>\n",
       "      <td>f</td>\n",
       "      <td>very good</td>\n",
       "    </tr>\n",
       "  </tbody>\n",
       "</table>\n",
       "</div>"
      ],
      "text/plain": [
       "   exerany  hlthplan  smoke100  height  weight  wtdesire  age gender  \\\n",
       "0        0         1         0      70     175       175   77      m   \n",
       "1        0         1         1      64     125       115   33      f   \n",
       "2        1         1         1      60     105       105   49      f   \n",
       "3        1         1         0      66     132       124   42      f   \n",
       "4        0         1         0      61     150       130   55      f   \n",
       "\n",
       "     genhlth  \n",
       "0       good  \n",
       "1       good  \n",
       "2       good  \n",
       "3       good  \n",
       "4  very good  "
      ]
     },
     "execution_count": 76,
     "metadata": {},
     "output_type": "execute_result"
    }
   ],
   "source": [
    "df1.head()"
   ]
  },
  {
   "cell_type": "markdown",
   "metadata": {},
   "source": [
    "### Câu 6\n",
    "\n",
    "Tỉ lệ người hút thuốc: Tính tỉ lệ phần trăm người tham gia khảo sát hiện đang hút thuốc lá. Liệu có sự khác biệt đáng kể về tỉ lệ này giữa các nhóm tuổi khác nhau không?\n",
    "\n"
   ]
  },
  {
   "cell_type": "code",
   "execution_count": 83,
   "metadata": {},
   "outputs": [
    {
     "name": "stdout",
     "output_type": "stream",
     "text": [
      "Ty le nguoi hut thuoc: 47.20%\n"
     ]
    },
    {
     "data": {
      "image/png": "[encoded data removed]",
      "text/plain": [
       "<Figure size 1000x600 with 1 Axes>"
      ]
     },
     "metadata": {},
     "output_type": "display_data"
    }
   ],
   "source": [
    "# ### Câu 6\n",
    "\n",
    "# Tỉ lệ người hút thuốc: Tính tỉ lệ phần trăm người tham gia khảo sát hiện đang hút thuốc lá. Liệu có sự khác biệt đáng kể về tỉ lệ này giữa các nhóm tuổi khác nhau không?\n",
    "\n",
    "print(f\"Ty le nguoi hut thuoc: {df1[df1.smoke100 == 1].shape[0] * 100 / df1.shape[0]:.2f}%\")\n",
    "\n",
    "age_gr_smoke = df1.groupby(['age', 'smoke100']).size().unstack(fill_value=0)\n",
    "\n",
    "age_gr_smoke.plot(kind='bar', stacked=True, figsize=(10, 6))\n",
    "plt.xlabel('Age')\n",
    "plt.ylabel('Count')\n",
    "plt.title('Number of Smokers and Non-Smokers by Age')\n",
    "plt.show()"
   ]
  },
  {
   "cell_type": "markdown",
   "metadata": {},
   "source": [
    "### Câu 7\n",
    "\n",
    "BMI trung bình theo giới tính: Tính chỉ số BMI trung bình cho nam và nữ trong mẫu. \n",
    "\n"
   ]
  },
  {
   "cell_type": "code",
   "execution_count": 118,
   "metadata": {},
   "outputs": [
    {
     "name": "stdout",
     "output_type": "stream",
     "text": [
      "26.9829119535115\n",
      "25.797787555079438\n"
     ]
    }
   ],
   "source": [
    "# ### Câu 7\n",
    "\n",
    "# BMI trung bình theo giới tính: Tính chỉ số BMI trung bình cho nam và nữ trong mẫu.\n",
    "# df2 = df1\n",
    "# df2.height = df1.height * 2.54\n",
    "# df2.weight = df1.weight / 2.2\n",
    "df2.head()\n",
    "\n",
    "male = df2[df2.gender == 'm']\n",
    "female = df2[df2.gender == 'f']\n",
    "\n",
    "height_m_male = male.height / 100\n",
    "height_m_female = female.height / 100\n",
    "\n",
    "bmi_male = male.weight / (height_m_male ** 2)\n",
    "print(bmi_male.mean())\n",
    "\n",
    "bmi_female = female.weight / (height_m_female ** 2)\n",
    "print(bmi_female.mean())\n"
   ]
  },
  {
   "cell_type": "markdown",
   "metadata": {},
   "source": [
    "### câu 8\n",
    "\n",
    "Phân tích tỉ lệ bệnh béo phì: Sử dụng các tiêu chuẩn của CDC về chỉ số BMI để phân loại người tham gia vào nhóm béo phì. Tính tỉ lệ béo phì theo giới tính và độ tuổi. "
   ]
  },
  {
   "cell_type": "code",
   "execution_count": 119,
   "metadata": {},
   "outputs": [
    {
     "name": "stdout",
     "output_type": "stream",
     "text": [
      "Obesity rate by gender:\n",
      "gender\n",
      "f    20.161058\n",
      "m    21.109834\n",
      "dtype: float64\n",
      "\n",
      "Obesity rate by age group:\n",
      "age_group\n",
      "[18, 30)     14.375877\n",
      "[30, 40)     20.852858\n",
      "[40, 50)     23.497932\n",
      "[50, 60)     25.827144\n",
      "[60, 70)     24.809886\n",
      "[70, 80)     17.739026\n",
      "[80, 90)     11.867365\n",
      "[90, 100)     4.878049\n",
      "dtype: float64\n"
     ]
    },
    {
     "name": "stderr",
     "output_type": "stream",
     "text": [
      "C:\\Users\\HP\\AppData\\Local\\Temp\\ipykernel_13876\\3209116867.py:27: FutureWarning: The default of observed=False is deprecated and will be changed to True in a future version of pandas. Pass observed=False to retain current behavior or observed=True to adopt the future default and silence this warning.\n",
      "  obesity_rate_age = df1[df1['bmi_category'] == 'Obese'].groupby('age_group').size() * 100 / df1.groupby('age_group').size()\n",
      "C:\\Users\\HP\\AppData\\Local\\Temp\\ipykernel_13876\\3209116867.py:27: FutureWarning: The default of observed=False is deprecated and will be changed to True in a future version of pandas. Pass observed=False to retain current behavior or observed=True to adopt the future default and silence this warning.\n",
      "  obesity_rate_age = df1[df1['bmi_category'] == 'Obese'].groupby('age_group').size() * 100 / df1.groupby('age_group').size()\n"
     ]
    }
   ],
   "source": [
    "# ### câu 8\n",
    "\n",
    "# Phân tích tỉ lệ bệnh béo phì: Sử dụng các tiêu chuẩn của CDC về chỉ số BMI để phân loại người tham gia vào nhóm béo phì. Tính tỉ lệ béo phì theo giới tính và độ tuổi.\n",
    "\n",
    "# CDC BMI categories\n",
    "def categorize_bmi(bmi):\n",
    "    if bmi < 18.5:\n",
    "        return 'Underweight'\n",
    "    elif 18.5 <= bmi < 24.9:\n",
    "        return 'Normal weight'\n",
    "    elif 25 <= bmi < 29.9:\n",
    "        return 'Overweight'\n",
    "    else:\n",
    "        return 'Obese'\n",
    "\n",
    "# Apply BMI categorization\n",
    "df1['bmi'] = df1['weight'] / (df1['height'] / 100) ** 2\n",
    "df1['bmi_category'] = df1['bmi'].apply(categorize_bmi)\n",
    "\n",
    "# Calculate obesity rate by gender\n",
    "obesity_rate_gender = df1[df1['bmi_category'] == 'Obese'].groupby('gender').size() * 100 / df1.groupby('gender').size()\n",
    "print(\"Obesity rate by gender:\")\n",
    "print(obesity_rate_gender)\n",
    "\n",
    "# Calculate obesity rate by age group\n",
    "df1['age_group'] = pd.cut(df1['age'], bins=[18, 30, 40, 50, 60, 70, 80, 90, 100], right=False)\n",
    "obesity_rate_age = df1[df1['bmi_category'] == 'Obese'].groupby('age_group').size() * 100 / df1.groupby('age_group').size()\n",
    "print(\"\\nObesity rate by age group:\")\n",
    "print(obesity_rate_age) "
   ]
  },
  {
   "cell_type": "markdown",
   "metadata": {},
   "source": [
    "---"
   ]
  }
 ],
 "metadata": {
  "kernelspec": {
   "display_name": "Python 3",
   "language": "python",
   "name": "python3"
  },
  "language_info": {
   "codemirror_mode": {
    "name": "ipython",
    "version": 3
   },
   "file_extension": ".py",
   "mimetype": "text/x-python",
   "name": "python",
   "nbconvert_exporter": "python",
   "pygments_lexer": "ipython3",
   "version": "3.7.1"
  }
 },
 "nbformat": 4,
 "nbformat_minor": 2
}
